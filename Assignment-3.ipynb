{
 "cells": [
  {
   "cell_type": "markdown",
   "id": "9164fadd-ff06-49d5-8d7c-d2d789b28090",
   "metadata": {},
   "source": [
    "1. Write a Python program to print the following string in a specific format (see the\r\n",
    "output)."
   ]
  },
  {
   "cell_type": "code",
   "execution_count": 4,
   "id": "b0454eb2-b900-4ec4-a47f-4acc677d6af9",
   "metadata": {},
   "outputs": [
    {
     "name": "stdout",
     "output_type": "stream",
     "text": [
      "Twinkle, twinkle, little star,\n",
      "                  How I wonder what you are!\n",
      "                          Up above the world so high,\n",
      "                          Like a diamond in the sky.\n",
      "         Twinkle, twinkle, little star,\n",
      "                How I wonder what you are\n"
     ]
    }
   ],
   "source": [
    "print(\"\"\"Twinkle, twinkle, little star,\n",
    "                  How I wonder what you are!\n",
    "                          Up above the world so high,\n",
    "                          Like a diamond in the sky.\n",
    "         Twinkle, twinkle, little star,\n",
    "                How I wonder what you are\"\"\")"
   ]
  },
  {
   "cell_type": "markdown",
   "id": "bcc0a791-5550-4a88-b574-1fb47e8cb939",
   "metadata": {},
   "source": [
    "2. Write a Python program to get the Python version you are using"
   ]
  },
  {
   "cell_type": "code",
   "execution_count": 11,
   "id": "fae4bdbc-5b1f-4e10-80cc-2f9fd39939b7",
   "metadata": {},
   "outputs": [
    {
     "name": "stdout",
     "output_type": "stream",
     "text": [
      "Python 3.12.4\n"
     ]
    }
   ],
   "source": [
    "!python --version"
   ]
  },
  {
   "cell_type": "markdown",
   "id": "3ac1dd0f-b2e9-497b-8e56-e84762d16f88",
   "metadata": {},
   "source": [
    "3. Write a Python program to display the current date and time."
   ]
  },
  {
   "cell_type": "code",
   "execution_count": null,
   "id": "84e68298-7649-497d-9d66-d40c24839e5f",
   "metadata": {},
   "outputs": [],
   "source": []
  },
  {
   "cell_type": "markdown",
   "id": "a547160e-d420-44e5-a1f8-fa0062775e6e",
   "metadata": {},
   "source": [
    "4. Write a Python program which accepts the radius of a circle from the user and compute\n",
    "the area."
   ]
  },
  {
   "cell_type": "code",
   "execution_count": 10,
   "id": "bbffb9c0-7b38-4fb0-9455-bb284fd696a8",
   "metadata": {},
   "outputs": [
    {
     "name": "stdout",
     "output_type": "stream",
     "text": [
      "12.56\n"
     ]
    }
   ],
   "source": [
    "radius = 2\n",
    "print(3.14 * radius**2)"
   ]
  },
  {
   "cell_type": "markdown",
   "id": "9ac7fe99-d1d7-40fe-b552-52dac746baa4",
   "metadata": {},
   "source": [
    "5. Write a Python program which accepts the user's first and last name and print them in\n",
    "reverse order with a space between them."
   ]
  },
  {
   "cell_type": "code",
   "execution_count": 12,
   "id": "18db9f2d-d5ab-4e28-8187-9f3fddbf735a",
   "metadata": {},
   "outputs": [
    {
     "name": "stdout",
     "output_type": "stream",
     "text": [
      "Raza Wasif\n"
     ]
    }
   ],
   "source": [
    "firstName = \"Wasif\"\n",
    "lastName = \"Raza\"\n",
    "\n",
    "print(lastName + \" \" + firstName)"
   ]
  },
  {
   "cell_type": "markdown",
   "id": "4fcb4ae5-9b5b-49cf-a7b5-b0ba472d0fd2",
   "metadata": {},
   "source": [
    "6. Write a python program which takes two inputs from user and print them addition"
   ]
  },
  {
   "cell_type": "code",
   "execution_count": 13,
   "id": "18056750-8d96-44ca-b8b1-1baf71d45abc",
   "metadata": {},
   "outputs": [
    {
     "name": "stdout",
     "output_type": "stream",
     "text": [
      "36\n"
     ]
    }
   ],
   "source": [
    "value_1 = 12\n",
    "value_2 = 24\n",
    "\n",
    "print(value_1 + value_2)"
   ]
  },
  {
   "cell_type": "markdown",
   "id": "b3e26c9f-66dc-4d93-a812-8ea67acdc2e5",
   "metadata": {},
   "source": [
    "7. Write a program which takes 5 inputs from user for different subject’s marks, total it\n",
    "and generate mark sheet using grades ?"
   ]
  },
  {
   "cell_type": "code",
   "execution_count": null,
   "id": "db8338de-4181-493a-a300-1f1322d224ad",
   "metadata": {},
   "outputs": [],
   "source": []
  },
  {
   "cell_type": "markdown",
   "id": "dfa5191d-99d1-4487-84d1-00ff1c9991cf",
   "metadata": {},
   "source": [
    "8. Write a program which take input from user and identify that the given number is even\n",
    "or odd?"
   ]
  },
  {
   "cell_type": "code",
   "execution_count": 20,
   "id": "99d0d99f-3403-4c1e-b9dc-206b52260835",
   "metadata": {},
   "outputs": [
    {
     "name": "stdout",
     "output_type": "stream",
     "text": [
      "Number is Odd.\n"
     ]
    }
   ],
   "source": [
    "number = 11\n",
    "if number % 2 == 0:\n",
    "    print(\"Number is Even.\")\n",
    "else: \n",
    "    print(\"Number is Odd.\")"
   ]
  },
  {
   "cell_type": "markdown",
   "id": "c35570a1-2306-4c1d-ad39-a486130bd3d5",
   "metadata": {},
   "source": [
    "9. Write a program which print the length of the list?"
   ]
  },
  {
   "cell_type": "code",
   "execution_count": 22,
   "id": "2c28adbd-d46e-4703-85ae-5b353c201805",
   "metadata": {},
   "outputs": [
    {
     "data": {
      "text/plain": [
       "4"
      ]
     },
     "execution_count": 22,
     "metadata": {},
     "output_type": "execute_result"
    }
   ],
   "source": [
    "my_profile = [\"Wasif\", \"Raza\", 22, \"UI Animations Expert\"]\n",
    "len(my_profile)"
   ]
  },
  {
   "cell_type": "markdown",
   "id": "0ac662f2-d7c2-4674-b3f8-7716d7150482",
   "metadata": {},
   "source": [
    "10. Write a Python program to sum all the numeric items in a list?"
   ]
  },
  {
   "cell_type": "code",
   "execution_count": 32,
   "id": "c7026d29-ca26-4207-bae2-e9f4314fb427",
   "metadata": {},
   "outputs": [
    {
     "name": "stdout",
     "output_type": "stream",
     "text": [
      "67.2\n"
     ]
    }
   ],
   "source": [
    "list = [22, 21, 24.2, \"Hello World\"]\n",
    "totalNumber = 0;\n",
    "for item in list:\n",
    "   if type(item) == int or type(item) == float:\n",
    "        totalNumber += item\n",
    "        \n",
    "print(totalNumber)"
   ]
  },
  {
   "cell_type": "markdown",
   "id": "efb2e3dd-3f7d-4af5-a170-2b51a2420999",
   "metadata": {},
   "source": [
    "11. Write a Python program to get the largest number from a numeric list."
   ]
  },
  {
   "cell_type": "code",
   "execution_count": 35,
   "id": "ca05819f-8a77-4116-9654-30250630ba57",
   "metadata": {},
   "outputs": [
    {
     "name": "stdout",
     "output_type": "stream",
     "text": [
      "2134\n"
     ]
    }
   ],
   "source": [
    "numeric_list = [12, 432, 2134, 212, 322]\n",
    "\n",
    "largest_number = max(numeric_list)\n",
    "\n",
    "print(largest_number)"
   ]
  },
  {
   "cell_type": "markdown",
   "id": "f594c4c1-5769-46a7-b048-a2fe34e398e4",
   "metadata": {},
   "source": [
    "12. Take a list, say for example this one:\r\n",
    "a = [1, 1, 2, 3, 5, 8, 13, 21, 34, 55, 89]\r\n",
    "Write a program that prints out all the elements of the list that are less than 5."
   ]
  },
  {
   "cell_type": "code",
   "execution_count": 38,
   "id": "9065ad57-fa8c-4c84-9755-0d0516702bd3",
   "metadata": {},
   "outputs": [
    {
     "name": "stdout",
     "output_type": "stream",
     "text": [
      "[1, 1, 2, 3, 5]\n"
     ]
    }
   ],
   "source": [
    "a = [1, 1, 2, 3, 5, 8, 13, 21, 34, 55, 89]\n",
    "        \n",
    "print(a[0:5])"
   ]
  },
  {
   "cell_type": "code",
   "execution_count": 40,
   "id": "82ba07af-47ea-416e-a259-b084e8243fe6",
   "metadata": {},
   "outputs": [
    {
     "name": "stdout",
     "output_type": "stream",
     "text": [
      "1\n",
      "1\n",
      "2\n",
      "3\n"
     ]
    }
   ],
   "source": [
    "a = [1, 1, 2, 3, 5, 8, 13, 21, 34, 55, 89]\n",
    "\n",
    "for number in a:\n",
    "   if number < 5:\n",
    "        print(number)"
   ]
  },
  {
   "cell_type": "code",
   "execution_count": null,
   "id": "fc938801-45b6-41b0-92aa-56b40272d77e",
   "metadata": {},
   "outputs": [],
   "source": []
  }
 ],
 "metadata": {
  "kernelspec": {
   "display_name": "Python 3 (ipykernel)",
   "language": "python",
   "name": "python3"
  },
  "language_info": {
   "codemirror_mode": {
    "name": "ipython",
    "version": 3
   },
   "file_extension": ".py",
   "mimetype": "text/x-python",
   "name": "python",
   "nbconvert_exporter": "python",
   "pygments_lexer": "ipython3",
   "version": "3.12.4"
  }
 },
 "nbformat": 4,
 "nbformat_minor": 5
}
