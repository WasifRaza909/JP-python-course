{
 "cells": [
  {
   "cell_type": "markdown",
   "id": "bfc05d8f-e481-48de-9292-cc23d68f8a3b",
   "metadata": {},
   "source": [
    "# Assignment 5"
   ]
  },
  {
   "cell_type": "markdown",
   "id": "e4b0e0b5-7308-4f89-936d-f3b9e6438e1d",
   "metadata": {},
   "source": [
    "###### 1. You need to store and manage employee records where each record includes an employee's ID, name, and department. (Use tuples to represent each employee record)."
   ]
  },
  {
   "cell_type": "code",
   "execution_count": 1,
   "id": "e20eb45b-1b59-4cc2-8692-4fd1b5e044cf",
   "metadata": {},
   "outputs": [],
   "source": [
    "employees = [\n",
    "    (1, \"Salman\", \"finance\"),\n",
    "    (2, \"Shaban\", \"accounts\")\n",
    "]"
   ]
  },
  {
   "cell_type": "markdown",
   "id": "d7438b39-0c46-4a05-9cd9-0f89678cf40c",
   "metadata": {},
   "source": [
    "###### 2. You are managing an inventory system where each item has an item ID, description, and quantity available.(Use tuples to represent each inventory item).."
   ]
  },
  {
   "cell_type": "code",
   "execution_count": 2,
   "id": "de427ebb-2a44-46e8-a3c0-29326f76b001",
   "metadata": {},
   "outputs": [],
   "source": [
    "inventory = [\n",
    "    (101, \"Laptop\", 50),\n",
    "    (102, \"Keyboard\", 150),\n",
    "    (103, \"Mouse\", 200)\n",
    "]"
   ]
  },
  {
   "cell_type": "markdown",
   "id": "050eeb62-0a90-400b-abe3-80440f143780",
   "metadata": {},
   "source": [
    "###### 3. You need to store the dates and times of scheduled events, like meetings or appointments. (Use tuples to store date and time information)."
   ]
  },
  {
   "cell_type": "code",
   "execution_count": 3,
   "id": "4d56a0b0-c69e-4cb4-bf4b-9070894f4d85",
   "metadata": {},
   "outputs": [],
   "source": [
    "events = [\n",
    "    (\"2024-08-15\", \"14:30\", \"Meeting with team\"),\n",
    "    (\"2024-08-16\", \"09:00\", \"Doctor's appointment\"),\n",
    "    (\"2024-08-17\", \"18:00\", \"Dinner with friends\")\n",
    "]"
   ]
  },
  {
   "cell_type": "markdown",
   "id": "9837eaa3-8d7e-40b8-b647-67a255ffac1f",
   "metadata": {},
   "source": [
    "###### 4. Store a company's employee details, organized by department. (Use dictionary in dictionary)."
   ]
  },
  {
   "cell_type": "code",
   "execution_count": 4,
   "id": "7c400587-6b6f-45c0-99b5-21520f8fcf3c",
   "metadata": {},
   "outputs": [],
   "source": [
    "software_company_employess = {\n",
    "    \"frontend_department\": {\n",
    "        1: {\"name\": \"Wasif\", \"position\": \"Senior Frontend Dev\", \"age\": 22},\n",
    "        2: {\"name\": \"Anas\", \"position\": \"Junior Frontend dev\", \"age\": 18}\n",
    "    },\n",
    "    \"hr_department\": {\n",
    "        1: {\"name\": \"Omar\", \"position\": \"HR Manager\", \"age\": 21},\n",
    "        2: {\"name\": \"Omair\", \"position\": \"Recruiter\", \"age\": 32}\n",
    "    },\n",
    "    \"backend_department\": {\n",
    "        1: {\"name\": \"Hassan\", \"position\": \"Senior Backend Dev\", \"age\": 23},\n",
    "        2: {\"name\": \"Munaf\", \"position\": \"Junior Backedn Dev\", \"age\": 48}\n",
    "    }\n",
    "}\n"
   ]
  },
  {
   "cell_type": "markdown",
   "id": "04215342-5a7b-4568-bef0-76d86c840524",
   "metadata": {},
   "source": [
    "###### 5. Keep track of student scores in various subjects and retrieve a student's scores. (Use dictionary in List). \n"
   ]
  },
  {
   "cell_type": "code",
   "execution_count": 5,
   "id": "6387d29a-b28e-4f12-9940-e399fd03a856",
   "metadata": {},
   "outputs": [
    {
     "name": "stdout",
     "output_type": "stream",
     "text": [
      "{'name': 'Ahmed', 'Chemistry': 80, 'Mathematics': 75, 'English': 70, 'Physics': 90, 'Computer': 98}\n"
     ]
    }
   ],
   "source": [
    "student_scores = [\n",
    "    {\n",
    "        \"name\": \"Ahmed\",\n",
    "        \"Chemistry\": 80,\n",
    "        \"Mathematics\": 75,\n",
    "        \"English\": 70,\n",
    "        \"Physics\": 90,\n",
    "        \"Computer\": 98\n",
    "    },\n",
    "    {\n",
    "        \"name\": \"Anas\",\n",
    "        \"Chemistry\": 70,\n",
    "        \"Mathematics\": 55,\n",
    "        \"English\": 86,\n",
    "        \"Physics\": 53,\n",
    "        \"Computer\": 67\n",
    "    },\n",
    "    {\n",
    "        \"name\": \"Ali\",\n",
    "        \"Chemistry\": 56,\n",
    "        \"Mathematics\": 78,\n",
    "        \"English\": 65,\n",
    "        \"Physics\": 43,\n",
    "        \"Computer\": 78\n",
    "    }\n",
    "]\n",
    "\n",
    "print(student_scores[0])"
   ]
  },
  {
   "cell_type": "markdown",
   "id": "b6de34eb-ad16-4c1f-84fd-a7387e13fbbd",
   "metadata": {},
   "source": [
    "###### 6. Track various projects and their associated tasks, and retrieve tasks for a specific project. (Use List in Dictionary). "
   ]
  },
  {
   "cell_type": "code",
   "execution_count": 6,
   "id": "e53aceb3-af79-491e-8de0-3668c94919d7",
   "metadata": {},
   "outputs": [
    {
     "data": {
      "text/plain": [
       "['Project 3 Task 1', 'Project 3 Task 2']"
      ]
     },
     "execution_count": 6,
     "metadata": {},
     "output_type": "execute_result"
    }
   ],
   "source": [
    "projects = {\n",
    "    \"project_1\": ['Project 1 Task 1','Project 1 Task 2','Project 1 Task 3','Project 1 Task 4'],\n",
    "    \"project_2\": ['Project 2 Task 1','Project 2 Task 2','Project 2 Task 3','Project 2 Task 4'],\n",
    "    \"project_3\": ['Project 3 Task 1','Project 3 Task 2'],\n",
    "    \"project_4\": ['Project 4 Task 1','Project 4 Task 2','Project 4 Task 3'],\n",
    "}\n",
    "\n",
    "projects[\"project_3\"]"
   ]
  },
  {
   "cell_type": "markdown",
   "id": "57005b87-b869-42f2-adf8-c7572a41168e",
   "metadata": {},
   "source": [
    "###### 7. Manage courses and their contents in a training program and retrieve details of a specific module. (dictionary in dictionary)"
   ]
  },
  {
   "cell_type": "code",
   "execution_count": 7,
   "id": "ed65d879-7574-4774-8ffc-fa55c6ed2cfa",
   "metadata": {},
   "outputs": [],
   "source": [
    "training_program = {\n",
    "    \"course_1\": {\n",
    "        \"module_1\": {\n",
    "            \"title\": \"Module 1 Title.\",\n",
    "            \"content\": \"Module 1 Content.\"\n",
    "        },\n",
    "        \"module_2\": {\n",
    "            \"title\": \"Module 2 Title.\",\n",
    "            \"content\": \"Module 2 Content.\"\n",
    "\n",
    "        },\n",
    "    },\n",
    "    \"course_2\": {\n",
    "        \"module_1\": {\n",
    "            \"title\": \"Module 1 Title.\",\n",
    "            \"content\": \"Module 1 Content.\"\n",
    "        },\n",
    "        \"module_2\": {\n",
    "            \"title\": \"Module 2 Title.\",\n",
    "            \"content\": \"Module 2 Content.\"\n",
    "        },\n",
    "        \"module_3\": {\n",
    "            \"title\": \"Module 3 Title.\",\n",
    "            \"content\": \"Module 3 Content.\"\n",
    "        },\n",
    "    }\n",
    "}"
   ]
  },
  {
   "cell_type": "code",
   "execution_count": 8,
   "id": "7d8f36cd-f0b8-429a-8ea0-b295c8c1bf62",
   "metadata": {},
   "outputs": [
    {
     "name": "stdout",
     "output_type": "stream",
     "text": [
      "{'title': 'Module 3 Title.', 'content': 'Module 3 Content.'}\n"
     ]
    }
   ],
   "source": [
    "print(training_program[\"course_2\"][\"module_3\"])"
   ]
  },
  {
   "cell_type": "markdown",
   "id": "6fdccc90-7fab-43dc-8678-7d34904ad59d",
   "metadata": {},
   "source": [
    "###### 8.You have a list where each element is a tuple containing a product's name and its price. You need to find products that are below a certain price threshold. (Use unpacking lists of tuples)"
   ]
  },
  {
   "cell_type": "code",
   "execution_count": 9,
   "id": "b226f5a7-885d-4360-a0b9-5cf20f00cbcc",
   "metadata": {},
   "outputs": [
    {
     "name": "stdout",
     "output_type": "stream",
     "text": [
      "Product 1 50\n",
      "Product 3 230\n",
      "Product 8 150\n",
      "Product 9 120\n",
      "Product 10 100\n"
     ]
    }
   ],
   "source": [
    "products = [\n",
    "    (\"Product 1\", 50),\n",
    "    (\"Product 2\", 275),\n",
    "    (\"Product 3\", 230),\n",
    "    (\"Product 4\", 400),\n",
    "    (\"Product 5\", 530),\n",
    "    (\"Product 6\", 380),\n",
    "    (\"Product 7\", 300),\n",
    "    (\"Product 8\", 150),\n",
    "    (\"Product 9\", 120),\n",
    "    (\"Product 10\", 100)\n",
    "]\n",
    "\n",
    "for item in products:\n",
    "    if item[1] < 250:\n",
    "        (name, price) = item\n",
    "        print(name, price)"
   ]
  },
  {
   "cell_type": "code",
   "execution_count": null,
   "id": "8bb49684-13bb-4c41-a1d8-45c725e08b9d",
   "metadata": {},
   "outputs": [],
   "source": []
  }
 ],
 "metadata": {
  "kernelspec": {
   "display_name": "Python 3 (ipykernel)",
   "language": "python",
   "name": "python3"
  },
  "language_info": {
   "codemirror_mode": {
    "name": "ipython",
    "version": 3
   },
   "file_extension": ".py",
   "mimetype": "text/x-python",
   "name": "python",
   "nbconvert_exporter": "python",
   "pygments_lexer": "ipython3",
   "version": "3.12.4"
  }
 },
 "nbformat": 4,
 "nbformat_minor": 5
}
