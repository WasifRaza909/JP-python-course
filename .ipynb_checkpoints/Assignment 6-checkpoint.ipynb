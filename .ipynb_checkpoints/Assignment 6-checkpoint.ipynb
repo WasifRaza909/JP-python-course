{
 "cells": [
  {
   "cell_type": "markdown",
   "id": "40a3b922-0383-4d95-aab6-1f4358c65135",
   "metadata": {},
   "source": [
    "# Assignment 6"
   ]
  },
  {
   "cell_type": "markdown",
   "id": "a2786322-7b19-408f-a869-1f501b2dcf28",
   "metadata": {},
   "source": [
    "###### 1. Write a Python program to construct the following pattern, using a nested for loop."
   ]
  },
  {
   "cell_type": "code",
   "execution_count": 20,
   "id": "6f872d82-d7bb-439a-aabf-e02f0d84470d",
   "metadata": {},
   "outputs": [
    {
     "name": "stdout",
     "output_type": "stream",
     "text": [
      "range(1, 6)\n",
      "* \n",
      "* * \n",
      "* * * \n",
      "* * * * \n",
      "* * * * * \n",
      "* * * * \n",
      "* * * \n",
      "* * \n",
      "* \n"
     ]
    }
   ],
   "source": [
    "# *\n",
    "# * *\n",
    "# * * *\n",
    "# * * * *\n",
    "# * * * * *\n",
    "# * * * *\n",
    "# * * *\n",
    "# * *\n",
    "# *\n",
    "numbers = range(1, 6)\n",
    "print(numbers)\n",
    "for number in numbers:\n",
    "    if number < numbers[-1]:\n",
    "      print('* ' * number)\n",
    "\n",
    "for number in numbers:\n",
    "  print('* ' * numbers[-number])"
   ]
  },
  {
   "cell_type": "markdown",
   "id": "38b3e147-321d-40f7-964b-4d2dc9538f9e",
   "metadata": {},
   "source": [
    "###### 2. Write a Python program to check whether an alphabet which is given by user in input prompt is a vowel or consonant. "
   ]
  },
  {
   "cell_type": "code",
   "execution_count": 36,
   "id": "7526c6e7-37bd-4d2b-a8cf-ecbb3700abf0",
   "metadata": {},
   "outputs": [
    {
     "name": "stdin",
     "output_type": "stream",
     "text": [
      " a\n"
     ]
    },
    {
     "name": "stdout",
     "output_type": "stream",
     "text": [
      "vowel\n"
     ]
    }
   ],
   "source": [
    "alphabets = [\"a\", \"e\", \"i\", \"o\", \"u\"]\n",
    "\n",
    "alphabets.count('e')\n",
    "\n",
    "user_input = input()\n",
    "\n",
    "if alphabets.count(user_input) == 0:\n",
    "    print(\"consonant\")\n",
    "else:\n",
    "    print(\"vowel\")\n"
   ]
  },
  {
   "cell_type": "markdown",
   "id": "cd0ee638-7591-46e4-9b3d-f939907b6a01",
   "metadata": {},
   "source": [
    "###### 3. Write a Python program to create the multiplication table (from 1 to 10) of a number and the number will be given by user in input prompt. Expected Output:"
   ]
  },
  {
   "cell_type": "code",
   "execution_count": 43,
   "id": "1239f9ed-acfa-4277-b629-952bf7d81c22",
   "metadata": {},
   "outputs": [
    {
     "name": "stdin",
     "output_type": "stream",
     "text": [
      " 4\n"
     ]
    },
    {
     "name": "stdout",
     "output_type": "stream",
     "text": [
      "4 x 1 = 4\n",
      "4 x 2 = 8\n",
      "4 x 3 = 12\n",
      "4 x 4 = 16\n",
      "4 x 5 = 20\n",
      "4 x 6 = 24\n",
      "4 x 7 = 28\n",
      "4 x 8 = 32\n",
      "4 x 9 = 36\n",
      "4 x 10 = 40\n"
     ]
    }
   ],
   "source": [
    "# Input a number: 6                                                      \n",
    "# 6 x 1 = 6                                                              \n",
    "# 6 x 2 = 12                                                              \n",
    "# 6 x 3 = 18                                                              \n",
    "# 6 x 4 = 24                                                              \n",
    "# 6 x 5 = 30                                                              \n",
    "# 6 x 6 = 36                                                              \n",
    "# 6 x 7 = 42                                                              \n",
    "# 6 x 8 = 48                                                              \n",
    "# 6 x 9 = 54                                                              \n",
    "# 6 x 10 = 60\n",
    "\n",
    "user_input = input()\n",
    "\n",
    "for number in range(1, 11):\n",
    "    print(f\"{user_input} x {number} = {int(user_input) * int(number)}\")\n"
   ]
  },
  {
   "cell_type": "markdown",
   "id": "6ca0d4f8-48b0-46b1-8a09-2f2f50a0e3ff",
   "metadata": {},
   "source": [
    "###### 4. Write a Python program to guess a number between 1 and 9. Note : User is prompted to enter a guess. If the user guesses wrong then the prompt appears again until the guess is correct, on successful guess, user will get a \"Well guessed!\" message, and the program will exit.xit."
   ]
  },
  {
   "cell_type": "code",
   "execution_count": 14,
   "id": "dc69294c-6b3e-426b-86ab-f0a7f81731aa",
   "metadata": {},
   "outputs": [
    {
     "name": "stdin",
     "output_type": "stream",
     "text": [
      "Guess a number between 1 and 9:  2\n"
     ]
    },
    {
     "name": "stdout",
     "output_type": "stream",
     "text": [
      "Try again\n"
     ]
    },
    {
     "name": "stdin",
     "output_type": "stream",
     "text": [
      "Guess a number between 1 and 9:  9\n"
     ]
    },
    {
     "name": "stdout",
     "output_type": "stream",
     "text": [
      "Try again\n"
     ]
    }
   ],
   "source": [
    "target_number = [1,2,3,4,5,6,7,8,9] # You can change this number to any value between 1 and 9\n",
    "\n",
    "input_number = None\n",
    "\n",
    "# Loop until the user guesses the correct number\n",
    "while input_number != len(target_number):\n",
    "    # Prompt the user to guess the number\n",
    "    user_input = input(\"Guess a number between 1 and 9: \")\n",
    "\n",
    "    # Convert the user input to an integer\n",
    "    input_number = int(user_input)\n",
    "\n",
    "    # Check if the guess is correct\n",
    "    if input_number == len(target_number):\n",
    "        print(\"Well guessed!\")\n",
    "    else:\n",
    "        print(\"Try again\")"
   ]
  },
  {
   "cell_type": "code",
   "execution_count": 13,
   "id": "6bac98c8-3f7e-4afe-af60-d773d4594840",
   "metadata": {},
   "outputs": [
    {
     "data": {
      "text/plain": [
       "['__add__',\n",
       " '__class__',\n",
       " '__class_getitem__',\n",
       " '__contains__',\n",
       " '__delattr__',\n",
       " '__delitem__',\n",
       " '__dir__',\n",
       " '__doc__',\n",
       " '__eq__',\n",
       " '__format__',\n",
       " '__ge__',\n",
       " '__getattribute__',\n",
       " '__getitem__',\n",
       " '__getstate__',\n",
       " '__gt__',\n",
       " '__hash__',\n",
       " '__iadd__',\n",
       " '__imul__',\n",
       " '__init__',\n",
       " '__init_subclass__',\n",
       " '__iter__',\n",
       " '__le__',\n",
       " '__len__',\n",
       " '__lt__',\n",
       " '__mul__',\n",
       " '__ne__',\n",
       " '__new__',\n",
       " '__reduce__',\n",
       " '__reduce_ex__',\n",
       " '__repr__',\n",
       " '__reversed__',\n",
       " '__rmul__',\n",
       " '__setattr__',\n",
       " '__setitem__',\n",
       " '__sizeof__',\n",
       " '__str__',\n",
       " '__subclasshook__',\n",
       " 'append',\n",
       " 'clear',\n",
       " 'copy',\n",
       " 'count',\n",
       " 'extend',\n",
       " 'index',\n",
       " 'insert',\n",
       " 'pop',\n",
       " 'remove',\n",
       " 'reverse',\n",
       " 'sort']"
      ]
     },
     "execution_count": 13,
     "metadata": {},
     "output_type": "execute_result"
    }
   ],
   "source": [
    "dir([])"
   ]
  },
  {
   "cell_type": "markdown",
   "id": "06adc8af-9a71-4e06-86fa-23dba5a1045d",
   "metadata": {},
   "source": [
    "###### 5. Write a  Python program to filter the height and width of students, which are stored in a dictionary. Original Dictionary:"
   ]
  },
  {
   "cell_type": "code",
   "execution_count": 28,
   "id": "9eaaffa5-08ff-47e0-8520-58ff991eb167",
   "metadata": {},
   "outputs": [
    {
     "name": "stdout",
     "output_type": "stream",
     "text": [
      "Cierra Vega\n"
     ]
    }
   ],
   "source": [
    "# {'Cierra Vega': (6.2, 70), 'Alden Cantrell': (5.9, 65), 'Kierra Gentry': (6.0, 68), 'Pierre Cox': (5.8, 66)}\n",
    "# Height > 6ft and Weight> 70kg:\n",
    "# {'Cierra Vega': (6.2, 70)}\n",
    "\n",
    "heights = {'Cierra Vega': (6.2, 70), 'Alden Cantrell': (5.9, 65), 'Kierra Gentry': (6.0, 68), 'Pierre Cox': (5.8, 66)}\n",
    "\n",
    "for height in heights:\n",
    "    if heights[height][0] > 6 and heights[height][1] > 69:\n",
    "            print(height)"
   ]
  },
  {
   "cell_type": "markdown",
   "id": "e86f85d9-c669-40cd-bbd5-59b47aecc5da",
   "metadata": {},
   "source": [
    "###### 6. A  Python dictionary contains List as a value. Write a Python program to clear the list values in the said dictionary. Original Dictionary:"
   ]
  },
  {
   "cell_type": "code",
   "execution_count": 38,
   "id": "a50d857d-bd0b-4841-a7bd-7f904adec952",
   "metadata": {},
   "outputs": [
    {
     "name": "stdout",
     "output_type": "stream",
     "text": [
      "{'C1': [], 'C2': [], 'C3': []}\n"
     ]
    }
   ],
   "source": [
    "# {'C1': [10, 20, 30], 'C2': [20, 30, 40], 'C3': [12, 34]}\n",
    "# Clear the list values in the said dictionary:\n",
    "# {'C1': [], 'C2': [], 'C3': []}\n",
    "\n",
    "dictionary_of_lists = {'C1': [10, 20, 30], 'C2': [20, 30, 40], 'C3': [12, 34]}\n",
    "\n",
    "for list in dictionary_of_lists:\n",
    "    dictionary_of_lists[list].clear()\n",
    "    \n",
    "print(dictionary_of_lists)\n",
    "    "
   ]
  },
  {
   "cell_type": "markdown",
   "id": "5ec5b10e-cb82-432d-8fce-f21f01e619f8",
   "metadata": {},
   "source": [
    "###### 7.  Rivers: Make a dictionary containing three major rivers and the country each river runs through.One key-value pair might be 'nile': 'egypt'.."
   ]
  },
  {
   "cell_type": "code",
   "execution_count": 45,
   "id": "de22c0de-ef97-4c5a-b424-df73422d8e87",
   "metadata": {},
   "outputs": [
    {
     "name": "stdout",
     "output_type": "stream",
     "text": [
      "The Nile runs through Egypt \n",
      "The Mississippi runs through United States \n",
      "The Amazon runs through Brazil \n",
      "Nile\n",
      "Mississippi\n",
      "Amazon\n",
      "Egypt\n",
      "United States\n",
      "Brazil\n"
     ]
    }
   ],
   "source": [
    "# • Use a loop to print a sentence about each river, such as The Nile runs\n",
    "# through Egypt.\n",
    "# • Use a loop to print the name of each river included in the dictionary.\n",
    "# • Use a loop to print the name of each country included in the dictionary.\n",
    "\n",
    "country_rivers = {\n",
    "    'Nile': 'Egypt',\n",
    "    'Mississippi': 'United States',\n",
    "    'Amazon': 'Brazil',\n",
    "}\n",
    "\n",
    "for country_river in country_rivers:\n",
    "    print(f\"The {country_river} runs through {country_rivers[country_river]} \")\n",
    "\n",
    "for river in country_rivers:\n",
    "    print(river)\n",
    "    \n",
    "for country in country_rivers:\n",
    "    print(country_rivers[country])\n",
    "\n"
   ]
  },
  {
   "cell_type": "code",
   "execution_count": 49,
   "id": "c3c34252-8b7e-4246-a23a-007f4785c21a",
   "metadata": {},
   "outputs": [
    {
     "name": "stdin",
     "output_type": "stream",
     "text": [
      " 4\n"
     ]
    },
    {
     "ename": "TypeError",
     "evalue": "'<' not supported between instances of 'str' and 'int'",
     "output_type": "error",
     "traceback": [
      "\u001b[1;31m---------------------------------------------------------------------------\u001b[0m",
      "\u001b[1;31mTypeError\u001b[0m                                 Traceback (most recent call last)",
      "Cell \u001b[1;32mIn[49], line 9\u001b[0m\n\u001b[0;32m      1\u001b[0m \u001b[38;5;66;03m###### 8. Movie Tickets: A movie theater charges different ticket prices depending on\u001b[39;00m\n\u001b[0;32m      2\u001b[0m \u001b[38;5;66;03m# a person’s age. If a person is under the age of 3, the ticket is free; if they are\u001b[39;00m\n\u001b[0;32m      3\u001b[0m \u001b[38;5;66;03m# between 3 and 12, the ticket is $10; and if they are over age 12, the ticket is\u001b[39;00m\n\u001b[0;32m      4\u001b[0m \u001b[38;5;66;03m# $15. Write a loop in which you ask users their age, and then tell them the cost\u001b[39;00m\n\u001b[0;32m      5\u001b[0m \u001b[38;5;66;03m# of their movie ticket. -->\u001b[39;00m\n\u001b[0;32m      7\u001b[0m user_age_input \u001b[38;5;241m=\u001b[39m \u001b[38;5;28minput\u001b[39m()\n\u001b[1;32m----> 9\u001b[0m \u001b[38;5;28;01mif\u001b[39;00m user_age_input \u001b[38;5;241m<\u001b[39m \u001b[38;5;241m3\u001b[39m:\n\u001b[0;32m     10\u001b[0m     \u001b[38;5;28mprint\u001b[39m(\u001b[38;5;124m\"\u001b[39m\u001b[38;5;124mYour ticket is free\u001b[39m\u001b[38;5;124m\"\u001b[39m)\n\u001b[0;32m     11\u001b[0m \u001b[38;5;28;01melif\u001b[39;00m user_age_input \u001b[38;5;241m>\u001b[39m\u001b[38;5;241m=\u001b[39m \u001b[38;5;241m3\u001b[39m \u001b[38;5;129;01mand\u001b[39;00m user_age_input \u001b[38;5;241m<\u001b[39m\u001b[38;5;241m=\u001b[39m \u001b[38;5;241m12\u001b[39m:\n",
      "\u001b[1;31mTypeError\u001b[0m: '<' not supported between instances of 'str' and 'int'"
     ]
    }
   ],
   "source": [
    "###### 8. Movie Tickets: A movie theater charges different ticket prices depending on\n",
    "# a person’s age. If a person is under the age of 3, the ticket is free; if they are\n",
    "# between 3 and 12, the ticket is $10; and if they are over age 12, the ticket is\n",
    "# $15. Write a loop in which you ask users their age, and then tell them the cost\n",
    "# of their movie ticket. -->\n",
    "\n",
    "user_age_input = input()\n",
    "\n",
    "if int(user_age_input) < 3:\n",
    "    print(\"Your ticket is free\")\n",
    "elif int(user_age_input) >= 3 and int(user_age_input) <= 12:\n",
    "    print('Your this is $10')\n",
    "else:\n",
    "    print('Your this is $15')"
   ]
  },
  {
   "cell_type": "code",
   "execution_count": null,
   "id": "71ecdcdd-53e0-47bd-95b1-f80a0d2a2f92",
   "metadata": {},
   "outputs": [],
   "source": []
  }
 ],
 "metadata": {
  "kernelspec": {
   "display_name": "Python 3 (ipykernel)",
   "language": "python",
   "name": "python3"
  },
  "language_info": {
   "codemirror_mode": {
    "name": "ipython",
    "version": 3
   },
   "file_extension": ".py",
   "mimetype": "text/x-python",
   "name": "python",
   "nbconvert_exporter": "python",
   "pygments_lexer": "ipython3",
   "version": "3.12.4"
  }
 },
 "nbformat": 4,
 "nbformat_minor": 5
}
