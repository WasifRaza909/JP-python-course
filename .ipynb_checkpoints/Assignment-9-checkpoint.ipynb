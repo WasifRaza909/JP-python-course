{
 "cells": [
  {
   "cell_type": "markdown",
   "id": "3a084008-b11f-497c-ab23-ad74b2084150",
   "metadata": {},
   "source": [
    "# Assignment 9"
   ]
  },
  {
   "cell_type": "code",
   "execution_count": null,
   "id": "50a8c308-9dc1-4973-81c2-1625c21d5938",
   "metadata": {},
   "outputs": [],
   "source": [
    "# Numpy:\n",
    "\n",
    "# Create a NumPy array and perform various operations like addition, subtraction, multiplication, and division.\n",
    "# Explore indexing and slicing to access specific elements or subsets of the array.\n",
    "# Practice reshaping arrays and transposing matrices.\n",
    "# Use NumPy functions to calculate statistics like mean, median, standard deviation, and variance.\n",
    "# Create arrays with different data types (e.g., int, float, bool, str).\n",
    "# Concatenate arrays.\n",
    "# Sort arrays in ascending or descending order.\n",
    "\n",
    "# Pandas:\n",
    "\n",
    "# Load data from various sources (e.g., CSV, Excel, JSON).\n",
    "# Explore the structure of a DataFrame, including its shape, data types, and missing values.\n",
    "# Summarize the data using descriptive statistics.\n",
    "# Filter and select specific columns or rows."
   ]
  },
  {
   "cell_type": "code",
   "execution_count": 3,
   "id": "b01db23d-907f-4e42-a527-fb06636705eb",
   "metadata": {},
   "outputs": [],
   "source": [
    "import numpy as np"
   ]
  },
  {
   "cell_type": "code",
   "execution_count": 4,
   "id": "1b5e84e1-eddd-4fa7-96c8-f7379b2e83a3",
   "metadata": {},
   "outputs": [],
   "source": [
    "numpy_list = np.array([1,2,3,4,5])"
   ]
  },
  {
   "cell_type": "code",
   "execution_count": 27,
   "id": "4ee1de68-13d9-4c5c-8f99-c244a13d0d63",
   "metadata": {},
   "outputs": [
    {
     "name": "stdout",
     "output_type": "stream",
     "text": [
      "[7 5 4 6 3]\n",
      "[ 3  1  0  2 -1]\n",
      "[10  6  4  8  2]\n",
      "[2.5 1.5 1.  2.  0.5]\n",
      "3\n",
      "[3 2 4]\n",
      "[[ 1  2  3  4]\n",
      " [ 5  6  7  8]\n",
      " [ 9 10 11 12]]\n",
      "[[ 1  5  9]\n",
      " [ 2  6 10]\n",
      " [ 3  7 11]\n",
      " [ 4  8 12]]\n",
      "3.0\n",
      "3.0\n",
      "1.4142135623730951\n",
      "['1' '2' '3' '4' '5' '1.9' '2.6' '3.1' '4.3' '5.4' 'True' 'False' 'True'\n",
      " 'False' 'True' 'string 1' 'string 2' 'string 3' 'string 4' 'string 5' '1'\n",
      " '2.2' 'True' 'string']\n",
      "[1 2 3 4 5]\n",
      "[5 4 3 2 1]\n"
     ]
    }
   ],
   "source": [
    "# Addition\n",
    "addition_list = numpy_list + 2\n",
    "print(addition_list)\n",
    "\n",
    "# Subtraction\n",
    "subtraction_list = numpy_list - 2\n",
    "print(subtraction_list)\n",
    "\n",
    "# Multiplication\n",
    "multiplication_list = numpy_list * 2\n",
    "print(multiplication_list)\n",
    "\n",
    "# Division\n",
    "division_list = numpy_list / 2\n",
    "print(division_list)\n",
    "\n",
    "# Indexing\n",
    "print(numpy_list[1])\n",
    "\n",
    "# Slicing\n",
    "print(numpy_list[1:4])\n",
    "\n",
    "# Reshape\n",
    "arr_to_reshape = np.array([1, 2, 3, 4, 5, 6, 7, 8, 9, 10, 11, 12])\n",
    "reshaped_arr = arr_to_reshape.reshape(3,4)\n",
    "print(reshaped_arr)\n",
    "\n",
    "# Transposing\n",
    "transposed_arr = reshaped_arr.T\n",
    "print(transposed_arr)\n",
    "\n",
    "numpy_list = np.array([1,2,3,4,5])\n",
    "\n",
    "# Mean\n",
    "numpy_list_mean = np.mean(numpy_list)\n",
    "print(numpy_list_mean)\n",
    "\n",
    "# Median\n",
    "numpy_list_median = np.median(numpy_list)\n",
    "print(numpy_list_median)\n",
    "\n",
    "# Standard Deviation\n",
    "numpy_list_std = np.std(numpy_list)\n",
    "print(numpy_list_std)\n",
    "\n",
    "# Arrays with different data types\n",
    "np_int_array = np.array([1,2,3,4,5])\n",
    "np_float_array = np.array([1.9,2.6,3.1,4.3,5.4])\n",
    "np_bool_array = np.array([True,False,True,False,True])\n",
    "np_str_array = np.array(['string 1','string 2','string 3','string 4','string 5',])\n",
    "np_mix_array = np.array([1, 2.2, True, \"string\"])\n",
    "\n",
    "# Concatenate array\n",
    "concatenated_array = np.concatenate((np_int_array, np_float_array,np_bool_array,np_str_array,np_mix_array))\n",
    "print(concatenated_array)\n",
    "\n",
    "# Sort arrays in ascending or descending order.\n",
    "numpy_list = np.array([5,3,2,4,1])\n",
    "\n",
    "asc_arr = np.sort(numpy_list)\n",
    "dsc_arr = asc_arr[::-1]\n",
    "print(asc_arr)\n",
    "print(dsc_arr)"
   ]
  },
  {
   "cell_type": "code",
   "execution_count": 29,
   "id": "ca3fdfe2-320e-4ccd-90a6-bc356a3865ea",
   "metadata": {},
   "outputs": [],
   "source": [
    "import pandas as pd"
   ]
  },
  {
   "cell_type": "code",
   "execution_count": null,
   "id": "bab415f7-3b92-4e19-9adb-179c0500faac",
   "metadata": {},
   "outputs": [],
   "source": []
  }
 ],
 "metadata": {
  "kernelspec": {
   "display_name": "Python 3 (ipykernel)",
   "language": "python",
   "name": "python3"
  },
  "language_info": {
   "codemirror_mode": {
    "name": "ipython",
    "version": 3
   },
   "file_extension": ".py",
   "mimetype": "text/x-python",
   "name": "python",
   "nbconvert_exporter": "python",
   "pygments_lexer": "ipython3",
   "version": "3.12.4"
  }
 },
 "nbformat": 4,
 "nbformat_minor": 5
}
