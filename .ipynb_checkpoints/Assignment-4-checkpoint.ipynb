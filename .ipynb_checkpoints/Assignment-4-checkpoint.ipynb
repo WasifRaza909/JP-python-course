{
 "cells": [
  {
   "cell_type": "markdown",
   "id": "976c1797-c5db-4a2c-a089-a8c2ba4a9c1f",
   "metadata": {},
   "source": [
    "# Assignment-4"
   ]
  },
  {
   "cell_type": "markdown",
   "id": "064a2f60-3ac6-40af-90e9-36eeaea7486f",
   "metadata": {},
   "source": [
    "##### 4-1. Guest List: If you could invite anyone, living or deceased, to dinner, who would you invite? Make a list that includes at least three people you’d like to invite to dinner. Then use your list to print a message to each person, inviting them to dinner."
   ]
  },
  {
   "cell_type": "code",
   "execution_count": 1,
   "id": "c4048453-8bb3-46c0-b0b1-8579ff3ea8cc",
   "metadata": {},
   "outputs": [
    {
     "name": "stdout",
     "output_type": "stream",
     "text": [
      "Hey Younus Let's have a dinner on Saturday\n",
      "Hey Hamza Let's have a dinner on Saturday\n",
      "Hey Shaban Let's have a dinner on Saturday\n"
     ]
    }
   ],
   "source": [
    "invitationList = [\"Younus\", \"Hamza\", \"Shaban\"]\n",
    "\n",
    "for name in invitationList:\n",
    "    print(\"Hey\" + \" \" + name + \" \" + \"Let's have a dinner on Saturday\")"
   ]
  },
  {
   "cell_type": "markdown",
   "id": "6500e775-499e-49d7-84e8-ace7c5ea0b8c",
   "metadata": {},
   "source": [
    "##### 4-2. Changing Guest List: You just heard that one of your guests can’t make the dinner, so you need to send out a new set of invitations. You’ll have to think of someone else to invite. "
   ]
  },
  {
   "cell_type": "code",
   "execution_count": 2,
   "id": "7387eb35-4579-4446-b135-2dec9fc38b87",
   "metadata": {},
   "outputs": [
    {
     "name": "stdout",
     "output_type": "stream",
     "text": [
      "Hey Younus Let's have a dinner on Saturday\n",
      "Hey Sajid Let's have a dinner on Saturday\n",
      "Hey Shaban Let's have a dinner on Saturday\n",
      "Hamza Can't make it\n"
     ]
    }
   ],
   "source": [
    "# Start with your program from Exercise 4-1. Add a print statement at the end of your program stating the name of the guest who can’t make it.\n",
    "# Modify your list, replacing the name of the guest who can’t make it with the name of the new person you are inviting. \n",
    "# Print a second set of invitation messages, one for each person who is still in your list. \n",
    "\n",
    "newInvitationList = invitationList.copy()\n",
    "\n",
    "newInvitationList[1] = \"Sajid\"\n",
    "\n",
    "for name in newInvitationList:\n",
    "    print(\"Hey\" + \" \" + name + \" \" + \"Let's have a dinner on Saturday\")\n",
    "\n",
    "\n",
    "\n",
    "print(invitationList[1] + \" \" + \"Can't make it\")"
   ]
  },
  {
   "cell_type": "markdown",
   "id": "73831b3d-dd97-4fdf-a922-bdd2fc1c4c1d",
   "metadata": {},
   "source": [
    " "
   ]
  },
  {
   "cell_type": "markdown",
   "id": "837c6a0e-6fcf-4a1d-93de-a88253324e9d",
   "metadata": {},
   "source": [
    "##### 4-3. More Guests: You just found a bigger dinner table, so now more space is available. Think of three more guests to invite to dinner."
   ]
  },
  {
   "cell_type": "code",
   "execution_count": 3,
   "id": "0f47144e-8e2a-42ec-a6fc-f5f96610a6a4",
   "metadata": {},
   "outputs": [
    {
     "name": "stdout",
     "output_type": "stream",
     "text": [
      "I just found a bigger dinner table!\n",
      "Hey Ghulam Let's have a dinner on Saturday\n",
      "Hey Younus Let's have a dinner on Saturday\n",
      "Hey Abdul Hadi Let's have a dinner on Saturday\n",
      "Hey Sajid Let's have a dinner on Saturday\n",
      "Hey Shaban Let's have a dinner on Saturday\n",
      "Hey Shayan Let's have a dinner on Saturday\n"
     ]
    }
   ],
   "source": [
    "# •     Use insert() to add one new guest to the beginning of your list. \n",
    "# •     Use insert() to add one new guest to the middle of your list. \n",
    "# •     Use append() to add one new guest to the end of your list. \n",
    "# •     Print a new set of invitation messages, one for each person in your list. \n",
    "\n",
    "newInvitationList\n",
    "\n",
    "print(\"I just found a bigger dinner table!\")\n",
    "\n",
    "newInvitationList.insert(0, \"Ghulam\")\n",
    "newInvitationList.insert(2, \"Abdul Hadi\")\n",
    "newInvitationList.append(\"Shayan\")\n",
    "for name in newInvitationList:\n",
    "    print(\"Hey\" + \" \" + name + \" \" + \"Let's have a dinner on Saturday\")"
   ]
  },
  {
   "cell_type": "markdown",
   "id": "526762cf-2440-4184-9f34-2edf550d463d",
   "metadata": {},
   "source": [
    "#####  4-4. Shrinking Guest List: You just found out that your new dinner table won’t arrive in time for the dinner, and you have space for only two guests."
   ]
  },
  {
   "cell_type": "code",
   "execution_count": 4,
   "id": "dbe5f328-bc6b-451c-b529-e5b1014b409a",
   "metadata": {},
   "outputs": [
    {
     "name": "stdout",
     "output_type": "stream",
     "text": [
      "Shayan Sorry I can't invite you to dinner\n",
      "Shaban Sorry I can't invite you to dinner\n",
      "Sajid Sorry I can't invite you to dinner\n",
      "Abdul Hadi Sorry I can't invite you to dinner\n",
      "Hey Ghulam You're still invited!\n",
      "Hey Younus You're still invited!\n",
      "[]\n"
     ]
    }
   ],
   "source": [
    "# •     Start with your program from Exercise 4-3. Add a new line that prints a\n",
    "# message saying that you can invite only two people for dinner. \n",
    "# •     Use pop() to remove guests from your list one at a time until only two\n",
    "# names remain in your list. Each time you pop a name from your list, print\n",
    "# a message to that person letting them know you’re sorry you can’t invite\n",
    "# them to dinner. \n",
    "# •     Print a message to each of the two people still on your list, letting them\n",
    "# know they’re still invited. \n",
    "# •     Use del to remove the last two names from your list, so you have an empty\n",
    "# list. Print your list to make sure you actually have an empty list at the end\n",
    "# of your program.\n",
    "\n",
    "newInvitationList\n",
    "\n",
    "for x in range(2, len(newInvitationList)):\n",
    "    print(newInvitationList[-1] + \" \" + \"Sorry I can't invite you to dinner\")\n",
    "    newInvitationList.pop()\n",
    "\n",
    "for name in newInvitationList:\n",
    "    print(\"Hey\" + \" \" + name + \" \" + \"You're still invited!\")\n",
    "\n",
    "del newInvitationList[0]\n",
    "del newInvitationList[0]\n",
    "\n",
    "print(newInvitationList)\n",
    "\n"
   ]
  },
  {
   "cell_type": "code",
   "execution_count": null,
   "id": "58c7efac-ce76-4f55-b3b2-8bf76e1b7a3c",
   "metadata": {},
   "outputs": [],
   "source": []
  }
 ],
 "metadata": {
  "kernelspec": {
   "display_name": "Python 3 (ipykernel)",
   "language": "python",
   "name": "python3"
  },
  "language_info": {
   "codemirror_mode": {
    "name": "ipython",
    "version": 3
   },
   "file_extension": ".py",
   "mimetype": "text/x-python",
   "name": "python",
   "nbconvert_exporter": "python",
   "pygments_lexer": "ipython3",
   "version": "3.12.4"
  }
 },
 "nbformat": 4,
 "nbformat_minor": 5
}
