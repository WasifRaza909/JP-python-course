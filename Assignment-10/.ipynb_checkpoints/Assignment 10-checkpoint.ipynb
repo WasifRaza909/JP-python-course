{
 "cells": [
  {
   "cell_type": "code",
   "execution_count": 12,
   "id": "ff74c59b-0459-4512-b771-10c9feec5317",
   "metadata": {},
   "outputs": [],
   "source": [
    "import pandas as pd\n",
    "import matplotlib.pyplot as plt\n",
    "import seaborn as sns\n",
    "\n",
    "df = pd.read_csv('adult.csv')"
   ]
  },
  {
   "cell_type": "markdown",
   "id": "972da6c3-d6bb-4861-b1e0-c5c8133905ae",
   "metadata": {},
   "source": [
    "## ***1.Display Top 10 Rows of The Dataset***"
   ]
  },
  {
   "cell_type": "code",
   "execution_count": 4,
   "id": "951d6947-ea02-4c73-a0cf-9d4d1d991650",
   "metadata": {},
   "outputs": [
    {
     "name": "stdout",
     "output_type": "stream",
     "text": [
      "   age         workclass  fnlwgt     education  educational-num  \\\n",
      "0   25           Private  226802          11th                7   \n",
      "1   38           Private   89814       HS-grad                9   \n",
      "2   28         Local-gov  336951    Assoc-acdm               12   \n",
      "3   44           Private  160323  Some-college               10   \n",
      "4   18                 ?  103497  Some-college               10   \n",
      "5   34           Private  198693          10th                6   \n",
      "6   29                 ?  227026       HS-grad                9   \n",
      "7   63  Self-emp-not-inc  104626   Prof-school               15   \n",
      "8   24           Private  369667  Some-college               10   \n",
      "9   55           Private  104996       7th-8th                4   \n",
      "\n",
      "       marital-status         occupation   relationship   race  gender  \\\n",
      "0       Never-married  Machine-op-inspct      Own-child  Black    Male   \n",
      "1  Married-civ-spouse    Farming-fishing        Husband  White    Male   \n",
      "2  Married-civ-spouse    Protective-serv        Husband  White    Male   \n",
      "3  Married-civ-spouse  Machine-op-inspct        Husband  Black    Male   \n",
      "4       Never-married                  ?      Own-child  White  Female   \n",
      "5       Never-married      Other-service  Not-in-family  White    Male   \n",
      "6       Never-married                  ?      Unmarried  Black    Male   \n",
      "7  Married-civ-spouse     Prof-specialty        Husband  White    Male   \n",
      "8       Never-married      Other-service      Unmarried  White  Female   \n",
      "9  Married-civ-spouse       Craft-repair        Husband  White    Male   \n",
      "\n",
      "   capital-gain  capital-loss  hours-per-week native-country income  \n",
      "0             0             0              40  United-States  <=50K  \n",
      "1             0             0              50  United-States  <=50K  \n",
      "2             0             0              40  United-States   >50K  \n",
      "3          7688             0              40  United-States   >50K  \n",
      "4             0             0              30  United-States  <=50K  \n",
      "5             0             0              30  United-States  <=50K  \n",
      "6             0             0              40  United-States  <=50K  \n",
      "7          3103             0              32  United-States   >50K  \n",
      "8             0             0              40  United-States  <=50K  \n",
      "9             0             0              10  United-States  <=50K  \n"
     ]
    }
   ],
   "source": [
    "top_10_rows = df.head(10)\n",
    "print(top_10_rows)"
   ]
  },
  {
   "cell_type": "markdown",
   "id": "467c4b6f-0dc9-4b77-ada9-3234c809213e",
   "metadata": {},
   "source": [
    "## ***2. Check Last 10 Rows of The Dataset***\n"
   ]
  },
  {
   "cell_type": "code",
   "execution_count": 5,
   "id": "8f14891d-313f-4fcd-a6c4-aabb8060efe6",
   "metadata": {},
   "outputs": [
    {
     "name": "stdout",
     "output_type": "stream",
     "text": [
      "       age     workclass  fnlwgt     education  educational-num  \\\n",
      "48832   32       Private   34066          10th                6   \n",
      "48833   43       Private   84661     Assoc-voc               11   \n",
      "48834   32       Private  116138       Masters               14   \n",
      "48835   53       Private  321865       Masters               14   \n",
      "48836   22       Private  310152  Some-college               10   \n",
      "48837   27       Private  257302    Assoc-acdm               12   \n",
      "48838   40       Private  154374       HS-grad                9   \n",
      "48839   58       Private  151910       HS-grad                9   \n",
      "48840   22       Private  201490       HS-grad                9   \n",
      "48841   52  Self-emp-inc  287927       HS-grad                9   \n",
      "\n",
      "           marital-status         occupation   relationship  \\\n",
      "48832  Married-civ-spouse  Handlers-cleaners        Husband   \n",
      "48833  Married-civ-spouse              Sales        Husband   \n",
      "48834       Never-married       Tech-support  Not-in-family   \n",
      "48835  Married-civ-spouse    Exec-managerial        Husband   \n",
      "48836       Never-married    Protective-serv  Not-in-family   \n",
      "48837  Married-civ-spouse       Tech-support           Wife   \n",
      "48838  Married-civ-spouse  Machine-op-inspct        Husband   \n",
      "48839             Widowed       Adm-clerical      Unmarried   \n",
      "48840       Never-married       Adm-clerical      Own-child   \n",
      "48841  Married-civ-spouse    Exec-managerial           Wife   \n",
      "\n",
      "                     race  gender  capital-gain  capital-loss  hours-per-week  \\\n",
      "48832  Amer-Indian-Eskimo    Male             0             0              40   \n",
      "48833               White    Male             0             0              45   \n",
      "48834  Asian-Pac-Islander    Male             0             0              11   \n",
      "48835               White    Male             0             0              40   \n",
      "48836               White    Male             0             0              40   \n",
      "48837               White  Female             0             0              38   \n",
      "48838               White    Male             0             0              40   \n",
      "48839               White  Female             0             0              40   \n",
      "48840               White    Male             0             0              20   \n",
      "48841               White  Female         15024             0              40   \n",
      "\n",
      "      native-country income  \n",
      "48832  United-States  <=50K  \n",
      "48833  United-States  <=50K  \n",
      "48834         Taiwan  <=50K  \n",
      "48835  United-States   >50K  \n",
      "48836  United-States  <=50K  \n",
      "48837  United-States  <=50K  \n",
      "48838  United-States   >50K  \n",
      "48839  United-States  <=50K  \n",
      "48840  United-States  <=50K  \n",
      "48841  United-States   >50K  \n"
     ]
    }
   ],
   "source": [
    "last_10_rows = df.tail(10)\n",
    "print(last_10_rows)"
   ]
  },
  {
   "cell_type": "markdown",
   "id": "b4b86062-9da1-44c1-9a12-0aca517346ed",
   "metadata": {},
   "source": [
    "## ***3. Find Shape of Our Dataset (Number of Rows And Number of Columns)***"
   ]
  },
  {
   "cell_type": "code",
   "execution_count": 6,
   "id": "86cdf265-ca91-43c8-bfdf-33b25e5758ed",
   "metadata": {},
   "outputs": [
    {
     "name": "stdout",
     "output_type": "stream",
     "text": [
      "(48842, 15)\n"
     ]
    }
   ],
   "source": [
    "df_shape = df.shape\n",
    "print(df_shape)"
   ]
  },
  {
   "cell_type": "markdown",
   "id": "9727a614-d024-49f4-ab30-70bb8f735411",
   "metadata": {},
   "source": [
    "## ***4. Getting Information About Our Dataset Like Total Number Rows, Total Number of Columns, Datatypes of Each Column And Memory Requirement***"
   ]
  },
  {
   "cell_type": "code",
   "execution_count": 9,
   "id": "1183405c-9243-475e-8e65-104d791d4af2",
   "metadata": {},
   "outputs": [
    {
     "name": "stdout",
     "output_type": "stream",
     "text": [
      "<class 'pandas.core.frame.DataFrame'>\n",
      "RangeIndex: 48842 entries, 0 to 48841\n",
      "Data columns (total 15 columns):\n",
      " #   Column           Non-Null Count  Dtype \n",
      "---  ------           --------------  ----- \n",
      " 0   age              48842 non-null  int64 \n",
      " 1   workclass        48842 non-null  object\n",
      " 2   fnlwgt           48842 non-null  int64 \n",
      " 3   education        48842 non-null  object\n",
      " 4   educational-num  48842 non-null  int64 \n",
      " 5   marital-status   48842 non-null  object\n",
      " 6   occupation       48842 non-null  object\n",
      " 7   relationship     48842 non-null  object\n",
      " 8   race             48842 non-null  object\n",
      " 9   gender           48842 non-null  object\n",
      " 10  capital-gain     48842 non-null  int64 \n",
      " 11  capital-loss     48842 non-null  int64 \n",
      " 12  hours-per-week   48842 non-null  int64 \n",
      " 13  native-country   48842 non-null  object\n",
      " 14  income           48842 non-null  object\n",
      "dtypes: int64(6), object(9)\n",
      "memory usage: 5.6+ MB\n",
      "None\n"
     ]
    }
   ],
   "source": [
    "df_info = df.info()\n",
    "print(df_info)"
   ]
  },
  {
   "cell_type": "markdown",
   "id": "ac1ce41d-1cfa-4c62-9cd5-f16918b949b1",
   "metadata": {},
   "source": [
    "## ***5.Check Null Values And Also Create A Heatmap In The Dataset***\n"
   ]
  },
  {
   "cell_type": "code",
   "execution_count": 11,
   "id": "8a6fb0a7-0d71-41d4-ab21-f3796a47f480",
   "metadata": {},
   "outputs": [
    {
     "name": "stdout",
     "output_type": "stream",
     "text": [
      "age                0\n",
      "workclass          0\n",
      "fnlwgt             0\n",
      "education          0\n",
      "educational-num    0\n",
      "marital-status     0\n",
      "occupation         0\n",
      "relationship       0\n",
      "race               0\n",
      "gender             0\n",
      "capital-gain       0\n",
      "capital-loss       0\n",
      "hours-per-week     0\n",
      "native-country     0\n",
      "income             0\n",
      "dtype: int64\n"
     ]
    }
   ],
   "source": [
    "check_null_values = df.isnull().sum()\n",
    "print(check_null_values)"
   ]
  },
  {
   "cell_type": "markdown",
   "id": "a0d19b96-acf3-4326-9063-6c56e9459bfd",
   "metadata": {},
   "source": [
    "## ***6. Fetch Random Sample From the Dataset (50%)***"
   ]
  },
  {
   "cell_type": "markdown",
   "id": "63b782d5-b9f1-4c97-be99-11d857822380",
   "metadata": {},
   "source": [
    "## ***7. Perform Data Cleaning [Replace'?' with NaN]***"
   ]
  },
  {
   "cell_type": "markdown",
   "id": "7a51e383-16e8-49e4-8607-9d9d92ca4514",
   "metadata": {},
   "source": [
    "## ***8. Drop All The Missing Values***"
   ]
  },
  {
   "cell_type": "markdown",
   "id": "7f8f9d59-c85d-455b-b20f-38cf02076acd",
   "metadata": {},
   "source": [
    "## ***9. Check Duplicate Data and Drop Them***"
   ]
  },
  {
   "cell_type": "markdown",
   "id": "aaccfa58-6c89-49e5-a046-3fd7c41fcc16",
   "metadata": {},
   "source": [
    "## ***10. Get Overall Statistics About The Dataframe***"
   ]
  },
  {
   "cell_type": "markdown",
   "id": "6633ebb9-85cd-41c8-9afc-132ce35227fc",
   "metadata": {},
   "source": [
    "## ***11. Drop The Columns education-num, capital-gain and capital-loss***\n"
   ]
  },
  {
   "cell_type": "markdown",
   "id": "5535a0e0-80f6-4afa-a9c1-fc0e7ba87746",
   "metadata": {},
   "source": [
    "## ***12. What Is The Distribution of Age Column Show In Graph?***\n"
   ]
  },
  {
   "cell_type": "markdown",
   "id": "23b64339-c83e-4d02-9c0b-49d4d4880d55",
   "metadata": {},
   "source": [
    "## ***13. Find Total Number of Persons Having Age Between 17 To 48 (Inclusive) Using Between Method And Also Without Using Between Method***"
   ]
  },
  {
   "cell_type": "markdown",
   "id": "1ae999ae-df80-483a-8a0e-d7560edbbac8",
   "metadata": {},
   "source": [
    "## ***14. What is The Distribution of Workclass Column***"
   ]
  },
  {
   "cell_type": "markdown",
   "id": "19eff2cb-152c-4533-9f0a-1ac92fb21b16",
   "metadata": {},
   "source": [
    "## ***15. How Many Person Having Bachelors or Masters Degree***"
   ]
  },
  {
   "cell_type": "markdown",
   "id": "effdc572-3527-4d5e-984b-2007272a960e",
   "metadata": {},
   "source": [
    "## ***16. Create A Boxplot Of The \"Income\" Column Against The \"Age\" Column, Segmented By Gender***"
   ]
  },
  {
   "cell_type": "markdown",
   "id": "1bff8b30-d35b-4b15-a329-f3ad0141161a",
   "metadata": {},
   "source": [
    "## ***17. Replace income value [<=50k with 0 and >50k with 1]***"
   ]
  },
  {
   "cell_type": "markdown",
   "id": "cef888b2-216d-4df1-b2b5-8a3ab4f6730f",
   "metadata": {},
   "source": [
    "## ***18. Which Workclass getting The Highest Salary***"
   ]
  },
  {
   "cell_type": "markdown",
   "id": "1b4f6a67-714b-4e77-b420-6df3f4ff007d",
   "metadata": {},
   "source": [
    "## ***19. Who Has Better Chance To Get Salary >50k Male or Female***"
   ]
  },
  {
   "cell_type": "markdown",
   "id": "e71ae02e-1b99-48db-bb73-464a4b2f3e2f",
   "metadata": {},
   "source": [
    "## ***20. Convert Workclass Column DataType To Category Datatype***"
   ]
  }
 ],
 "metadata": {
  "kernelspec": {
   "display_name": "Python 3 (ipykernel)",
   "language": "python",
   "name": "python3"
  },
  "language_info": {
   "codemirror_mode": {
    "name": "ipython",
    "version": 3
   },
   "file_extension": ".py",
   "mimetype": "text/x-python",
   "name": "python",
   "nbconvert_exporter": "python",
   "pygments_lexer": "ipython3",
   "version": "3.12.4"
  }
 },
 "nbformat": 4,
 "nbformat_minor": 5
}
