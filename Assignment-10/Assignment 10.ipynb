{
 "cells": [
  {
   "cell_type": "code",
   "execution_count": 1,
   "id": "ff74c59b-0459-4512-b771-10c9feec5317",
   "metadata": {},
   "outputs": [],
   "source": [
    "import pandas as pd\n",
    "import matplotlib.pyplot as plt\n",
    "import seaborn as sns\n",
    "import numpy as np\n",
    "\n",
    "df = pd.read_csv('adult.csv')"
   ]
  },
  {
   "cell_type": "markdown",
   "id": "972da6c3-d6bb-4861-b1e0-c5c8133905ae",
   "metadata": {},
   "source": [
    "## ***1.Display Top 10 Rows of The Dataset***"
   ]
  },
  {
   "cell_type": "code",
   "execution_count": 2,
   "id": "951d6947-ea02-4c73-a0cf-9d4d1d991650",
   "metadata": {},
   "outputs": [
    {
     "name": "stdout",
     "output_type": "stream",
     "text": [
      "   age         workclass  fnlwgt     education  educational-num  \\\n",
      "0   25           Private  226802          11th                7   \n",
      "1   38           Private   89814       HS-grad                9   \n",
      "2   28         Local-gov  336951    Assoc-acdm               12   \n",
      "3   44           Private  160323  Some-college               10   \n",
      "4   18                 ?  103497  Some-college               10   \n",
      "5   34           Private  198693          10th                6   \n",
      "6   29                 ?  227026       HS-grad                9   \n",
      "7   63  Self-emp-not-inc  104626   Prof-school               15   \n",
      "8   24           Private  369667  Some-college               10   \n",
      "9   55           Private  104996       7th-8th                4   \n",
      "\n",
      "       marital-status         occupation   relationship   race  gender  \\\n",
      "0       Never-married  Machine-op-inspct      Own-child  Black    Male   \n",
      "1  Married-civ-spouse    Farming-fishing        Husband  White    Male   \n",
      "2  Married-civ-spouse    Protective-serv        Husband  White    Male   \n",
      "3  Married-civ-spouse  Machine-op-inspct        Husband  Black    Male   \n",
      "4       Never-married                  ?      Own-child  White  Female   \n",
      "5       Never-married      Other-service  Not-in-family  White    Male   \n",
      "6       Never-married                  ?      Unmarried  Black    Male   \n",
      "7  Married-civ-spouse     Prof-specialty        Husband  White    Male   \n",
      "8       Never-married      Other-service      Unmarried  White  Female   \n",
      "9  Married-civ-spouse       Craft-repair        Husband  White    Male   \n",
      "\n",
      "   capital-gain  capital-loss  hours-per-week native-country income  \n",
      "0             0             0              40  United-States  <=50K  \n",
      "1             0             0              50  United-States  <=50K  \n",
      "2             0             0              40  United-States   >50K  \n",
      "3          7688             0              40  United-States   >50K  \n",
      "4             0             0              30  United-States  <=50K  \n",
      "5             0             0              30  United-States  <=50K  \n",
      "6             0             0              40  United-States  <=50K  \n",
      "7          3103             0              32  United-States   >50K  \n",
      "8             0             0              40  United-States  <=50K  \n",
      "9             0             0              10  United-States  <=50K  \n"
     ]
    }
   ],
   "source": [
    "top_10_rows = df.head(10)\n",
    "print(top_10_rows)"
   ]
  },
  {
   "cell_type": "markdown",
   "id": "467c4b6f-0dc9-4b77-ada9-3234c809213e",
   "metadata": {},
   "source": [
    "## ***2. Check Last 10 Rows of The Dataset***\n"
   ]
  },
  {
   "cell_type": "code",
   "execution_count": 3,
   "id": "8f14891d-313f-4fcd-a6c4-aabb8060efe6",
   "metadata": {},
   "outputs": [
    {
     "name": "stdout",
     "output_type": "stream",
     "text": [
      "       age     workclass  fnlwgt     education  educational-num  \\\n",
      "48832   32       Private   34066          10th                6   \n",
      "48833   43       Private   84661     Assoc-voc               11   \n",
      "48834   32       Private  116138       Masters               14   \n",
      "48835   53       Private  321865       Masters               14   \n",
      "48836   22       Private  310152  Some-college               10   \n",
      "48837   27       Private  257302    Assoc-acdm               12   \n",
      "48838   40       Private  154374       HS-grad                9   \n",
      "48839   58       Private  151910       HS-grad                9   \n",
      "48840   22       Private  201490       HS-grad                9   \n",
      "48841   52  Self-emp-inc  287927       HS-grad                9   \n",
      "\n",
      "           marital-status         occupation   relationship  \\\n",
      "48832  Married-civ-spouse  Handlers-cleaners        Husband   \n",
      "48833  Married-civ-spouse              Sales        Husband   \n",
      "48834       Never-married       Tech-support  Not-in-family   \n",
      "48835  Married-civ-spouse    Exec-managerial        Husband   \n",
      "48836       Never-married    Protective-serv  Not-in-family   \n",
      "48837  Married-civ-spouse       Tech-support           Wife   \n",
      "48838  Married-civ-spouse  Machine-op-inspct        Husband   \n",
      "48839             Widowed       Adm-clerical      Unmarried   \n",
      "48840       Never-married       Adm-clerical      Own-child   \n",
      "48841  Married-civ-spouse    Exec-managerial           Wife   \n",
      "\n",
      "                     race  gender  capital-gain  capital-loss  hours-per-week  \\\n",
      "48832  Amer-Indian-Eskimo    Male             0             0              40   \n",
      "48833               White    Male             0             0              45   \n",
      "48834  Asian-Pac-Islander    Male             0             0              11   \n",
      "48835               White    Male             0             0              40   \n",
      "48836               White    Male             0             0              40   \n",
      "48837               White  Female             0             0              38   \n",
      "48838               White    Male             0             0              40   \n",
      "48839               White  Female             0             0              40   \n",
      "48840               White    Male             0             0              20   \n",
      "48841               White  Female         15024             0              40   \n",
      "\n",
      "      native-country income  \n",
      "48832  United-States  <=50K  \n",
      "48833  United-States  <=50K  \n",
      "48834         Taiwan  <=50K  \n",
      "48835  United-States   >50K  \n",
      "48836  United-States  <=50K  \n",
      "48837  United-States  <=50K  \n",
      "48838  United-States   >50K  \n",
      "48839  United-States  <=50K  \n",
      "48840  United-States  <=50K  \n",
      "48841  United-States   >50K  \n"
     ]
    }
   ],
   "source": [
    "last_10_rows = df.tail(10)\n",
    "print(last_10_rows)"
   ]
  },
  {
   "cell_type": "markdown",
   "id": "b4b86062-9da1-44c1-9a12-0aca517346ed",
   "metadata": {},
   "source": [
    "## ***3. Find Shape of Our Dataset (Number of Rows And Number of Columns)***"
   ]
  },
  {
   "cell_type": "code",
   "execution_count": 4,
   "id": "86cdf265-ca91-43c8-bfdf-33b25e5758ed",
   "metadata": {},
   "outputs": [
    {
     "name": "stdout",
     "output_type": "stream",
     "text": [
      "(48842, 15)\n"
     ]
    }
   ],
   "source": [
    "df_shape = df.shape\n",
    "print(df_shape)"
   ]
  },
  {
   "cell_type": "markdown",
   "id": "9727a614-d024-49f4-ab30-70bb8f735411",
   "metadata": {},
   "source": [
    "## ***4. Getting Information About Our Dataset Like Total Number Rows, Total Number of Columns, Datatypes of Each Column And Memory Requirement***"
   ]
  },
  {
   "cell_type": "code",
   "execution_count": 5,
   "id": "1183405c-9243-475e-8e65-104d791d4af2",
   "metadata": {},
   "outputs": [
    {
     "name": "stdout",
     "output_type": "stream",
     "text": [
      "<class 'pandas.core.frame.DataFrame'>\n",
      "RangeIndex: 48842 entries, 0 to 48841\n",
      "Data columns (total 15 columns):\n",
      " #   Column           Non-Null Count  Dtype \n",
      "---  ------           --------------  ----- \n",
      " 0   age              48842 non-null  int64 \n",
      " 1   workclass        48842 non-null  object\n",
      " 2   fnlwgt           48842 non-null  int64 \n",
      " 3   education        48842 non-null  object\n",
      " 4   educational-num  48842 non-null  int64 \n",
      " 5   marital-status   48842 non-null  object\n",
      " 6   occupation       48842 non-null  object\n",
      " 7   relationship     48842 non-null  object\n",
      " 8   race             48842 non-null  object\n",
      " 9   gender           48842 non-null  object\n",
      " 10  capital-gain     48842 non-null  int64 \n",
      " 11  capital-loss     48842 non-null  int64 \n",
      " 12  hours-per-week   48842 non-null  int64 \n",
      " 13  native-country   48842 non-null  object\n",
      " 14  income           48842 non-null  object\n",
      "dtypes: int64(6), object(9)\n",
      "memory usage: 5.6+ MB\n",
      "None\n"
     ]
    }
   ],
   "source": [
    "df_info = df.info()\n",
    "print(df_info)"
   ]
  },
  {
   "cell_type": "markdown",
   "id": "ac1ce41d-1cfa-4c62-9cd5-f16918b949b1",
   "metadata": {},
   "source": [
    "## ***5.Check Null Values And Also Create A Heatmap In The Dataset***\n"
   ]
  },
  {
   "cell_type": "code",
   "execution_count": 6,
   "id": "8a6fb0a7-0d71-41d4-ab21-f3796a47f480",
   "metadata": {},
   "outputs": [
    {
     "name": "stdout",
     "output_type": "stream",
     "text": [
      "         age  workclass  fnlwgt  education  educational-num  marital-status  \\\n",
      "0      False      False   False      False            False           False   \n",
      "1      False      False   False      False            False           False   \n",
      "2      False      False   False      False            False           False   \n",
      "3      False      False   False      False            False           False   \n",
      "4      False      False   False      False            False           False   \n",
      "...      ...        ...     ...        ...              ...             ...   \n",
      "48837  False      False   False      False            False           False   \n",
      "48838  False      False   False      False            False           False   \n",
      "48839  False      False   False      False            False           False   \n",
      "48840  False      False   False      False            False           False   \n",
      "48841  False      False   False      False            False           False   \n",
      "\n",
      "       occupation  relationship   race  gender  capital-gain  capital-loss  \\\n",
      "0           False         False  False   False         False         False   \n",
      "1           False         False  False   False         False         False   \n",
      "2           False         False  False   False         False         False   \n",
      "3           False         False  False   False         False         False   \n",
      "4           False         False  False   False         False         False   \n",
      "...           ...           ...    ...     ...           ...           ...   \n",
      "48837       False         False  False   False         False         False   \n",
      "48838       False         False  False   False         False         False   \n",
      "48839       False         False  False   False         False         False   \n",
      "48840       False         False  False   False         False         False   \n",
      "48841       False         False  False   False         False         False   \n",
      "\n",
      "       hours-per-week  native-country  income  \n",
      "0               False           False   False  \n",
      "1               False           False   False  \n",
      "2               False           False   False  \n",
      "3               False           False   False  \n",
      "4               False           False   False  \n",
      "...               ...             ...     ...  \n",
      "48837           False           False   False  \n",
      "48838           False           False   False  \n",
      "48839           False           False   False  \n",
      "48840           False           False   False  \n",
      "48841           False           False   False  \n",
      "\n",
      "[48842 rows x 15 columns]\n"
     ]
    },
    {
     "data": {
      "image/png": "[encoded data removed]",
      "text/plain": [
       "<Figure size 1200x600 with 2 Axes>"
      ]
     },
     "metadata": {},
     "output_type": "display_data"
    }
   ],
   "source": [
    "check_null_values = df.isnull()\n",
    "print(check_null_values)\n",
    "\n",
    "plt.figure(figsize=(12,6))\n",
    "sns.heatmap(check_null_values, cmap=\"magma\")\n",
    "plt.show()"
   ]
  },
  {
   "cell_type": "markdown",
   "id": "a0d19b96-acf3-4326-9063-6c56e9459bfd",
   "metadata": {},
   "source": [
    "## ***6. Fetch Random Sample From the Dataset (50%)***"
   ]
  },
  {
   "cell_type": "code",
   "execution_count": 7,
   "id": "a853eec0-3027-419e-b86c-9ee2e9259010",
   "metadata": {},
   "outputs": [
    {
     "name": "stdout",
     "output_type": "stream",
     "text": [
      "       age  workclass  fnlwgt  education  educational-num      marital-status  \\\n",
      "17452   50    Private  157043       11th                7            Divorced   \n",
      "22703   44    Private  228057    HS-grad                9           Separated   \n",
      "26237   51    Private   49017    HS-grad                9             Widowed   \n",
      "39742   37    Private  260093    HS-grad                9       Never-married   \n",
      "22094   53    Private  266529  Assoc-voc               11  Married-civ-spouse   \n",
      "...    ...        ...     ...        ...              ...                 ...   \n",
      "46161   60    Private  142922    HS-grad                9  Married-civ-spouse   \n",
      "4708    20          ?  197583    HS-grad                9  Married-civ-spouse   \n",
      "13082   63  State-gov  266565    HS-grad                9            Divorced   \n",
      "21696   23    Private   73514    HS-grad                9       Never-married   \n",
      "15757   51    Private  261207    HS-grad                9  Married-civ-spouse   \n",
      "\n",
      "            occupation   relationship                race  gender  \\\n",
      "17452    Other-service  Not-in-family               Black  Female   \n",
      "22703     Adm-clerical  Not-in-family               White  Female   \n",
      "26237    Other-service  Not-in-family               White  Female   \n",
      "39742     Adm-clerical      Unmarried               Black  Female   \n",
      "22094  Exec-managerial        Husband               White    Male   \n",
      "...                ...            ...                 ...     ...   \n",
      "46161     Craft-repair        Husband               White    Male   \n",
      "4708                 ?           Wife               White  Female   \n",
      "13082     Adm-clerical  Not-in-family               White  Female   \n",
      "21696     Adm-clerical      Own-child  Asian-Pac-Islander  Female   \n",
      "15757    Other-service        Husband               White    Male   \n",
      "\n",
      "       capital-gain  capital-loss  hours-per-week native-country income  \n",
      "17452             0             0              40  United-States  <=50K  \n",
      "22703             0             0              40    Puerto-Rico  <=50K  \n",
      "26237             0             0              24  United-States  <=50K  \n",
      "39742             0             0              40  United-States  <=50K  \n",
      "22094             0             0              40  United-States   >50K  \n",
      "...             ...           ...             ...            ...    ...  \n",
      "46161             0             0              50  United-States  <=50K  \n",
      "4708              0             0              40  United-States  <=50K  \n",
      "13082             0             0              27  United-States  <=50K  \n",
      "21696             0             0              40        Vietnam  <=50K  \n",
      "15757             0             0              40           Cuba   >50K  \n",
      "\n",
      "[24421 rows x 15 columns]\n"
     ]
    }
   ],
   "source": [
    "random_sample_data = df.sample(frac=0.5)\n",
    "print(random_sample_data)"
   ]
  },
  {
   "cell_type": "markdown",
   "id": "63b782d5-b9f1-4c97-be99-11d857822380",
   "metadata": {},
   "source": [
    "## ***7. Perform Data Cleaning [Replace'?' with NaN]***"
   ]
  },
  {
   "cell_type": "code",
   "execution_count": 8,
   "id": "5728ac26-6d22-47df-b223-5af0fd39b4a9",
   "metadata": {},
   "outputs": [],
   "source": [
    "df.replace('?',np.nan,inplace=True)"
   ]
  },
  {
   "cell_type": "markdown",
   "id": "7a51e383-16e8-49e4-8607-9d9d92ca4514",
   "metadata": {},
   "source": [
    "## ***8. Drop All The Missing Values***"
   ]
  },
  {
   "cell_type": "code",
   "execution_count": 9,
   "id": "8c3ab601-0664-4170-af50-0070c0e868de",
   "metadata": {},
   "outputs": [
    {
     "data": {
      "text/plain": [
       "age                45222\n",
       "workclass          45222\n",
       "fnlwgt             45222\n",
       "education          45222\n",
       "educational-num    45222\n",
       "marital-status     45222\n",
       "occupation         45222\n",
       "relationship       45222\n",
       "race               45222\n",
       "gender             45222\n",
       "capital-gain       45222\n",
       "capital-loss       45222\n",
       "hours-per-week     45222\n",
       "native-country     45222\n",
       "income             45222\n",
       "dtype: int64"
      ]
     },
     "execution_count": 9,
     "metadata": {},
     "output_type": "execute_result"
    }
   ],
   "source": [
    "df = df.dropna()  \n",
    "df.count()\n"
   ]
  },
  {
   "cell_type": "markdown",
   "id": "7f8f9d59-c85d-455b-b20f-38cf02076acd",
   "metadata": {},
   "source": [
    "## ***9. Check Duplicate Data and Drop Them***"
   ]
  },
  {
   "cell_type": "code",
   "execution_count": 10,
   "id": "5ca58fc1-2eac-4b01-bcb4-37ebe31dbff9",
   "metadata": {},
   "outputs": [
    {
     "data": {
      "text/plain": [
       "age                45175\n",
       "workclass          45175\n",
       "fnlwgt             45175\n",
       "education          45175\n",
       "educational-num    45175\n",
       "marital-status     45175\n",
       "occupation         45175\n",
       "relationship       45175\n",
       "race               45175\n",
       "gender             45175\n",
       "capital-gain       45175\n",
       "capital-loss       45175\n",
       "hours-per-week     45175\n",
       "native-country     45175\n",
       "income             45175\n",
       "dtype: int64"
      ]
     },
     "execution_count": 10,
     "metadata": {},
     "output_type": "execute_result"
    }
   ],
   "source": [
    "df[df.duplicated()]\n",
    "\n",
    "df.drop_duplicates(inplace=True)\n",
    "\n",
    "df.count()"
   ]
  },
  {
   "cell_type": "markdown",
   "id": "aaccfa58-6c89-49e5-a046-3fd7c41fcc16",
   "metadata": {},
   "source": [
    "## ***10. Get Overall Statistics About The Dataframe***"
   ]
  },
  {
   "cell_type": "code",
   "execution_count": 11,
   "id": "59adfe00-b25f-4de5-9e24-35ea1293a88b",
   "metadata": {},
   "outputs": [
    {
     "data": {
      "text/html": [
       "<div>\n",
       "<style scoped>\n",
       "    .dataframe tbody tr th:only-of-type {\n",
       "        vertical-align: middle;\n",
       "    }\n",
       "\n",
       "    .dataframe tbody tr th {\n",
       "        vertical-align: top;\n",
       "    }\n",
       "\n",
       "    .dataframe thead th {\n",
       "        text-align: right;\n",
       "    }\n",
       "</style>\n",
       "<table border=\"1\" class=\"dataframe\">\n",
       "  <thead>\n",
       "    <tr style=\"text-align: right;\">\n",
       "      <th></th>\n",
       "      <th>age</th>\n",
       "      <th>fnlwgt</th>\n",
       "      <th>educational-num</th>\n",
       "      <th>capital-gain</th>\n",
       "      <th>capital-loss</th>\n",
       "      <th>hours-per-week</th>\n",
       "    </tr>\n",
       "  </thead>\n",
       "  <tbody>\n",
       "    <tr>\n",
       "      <th>count</th>\n",
       "      <td>45175.000000</td>\n",
       "      <td>4.517500e+04</td>\n",
       "      <td>45175.000000</td>\n",
       "      <td>45175.000000</td>\n",
       "      <td>45175.000000</td>\n",
       "      <td>45175.000000</td>\n",
       "    </tr>\n",
       "    <tr>\n",
       "      <th>mean</th>\n",
       "      <td>38.556170</td>\n",
       "      <td>1.897388e+05</td>\n",
       "      <td>10.119314</td>\n",
       "      <td>1102.576270</td>\n",
       "      <td>88.687593</td>\n",
       "      <td>40.942512</td>\n",
       "    </tr>\n",
       "    <tr>\n",
       "      <th>std</th>\n",
       "      <td>13.215349</td>\n",
       "      <td>1.056524e+05</td>\n",
       "      <td>2.551740</td>\n",
       "      <td>7510.249876</td>\n",
       "      <td>405.156611</td>\n",
       "      <td>12.007730</td>\n",
       "    </tr>\n",
       "    <tr>\n",
       "      <th>min</th>\n",
       "      <td>17.000000</td>\n",
       "      <td>1.349200e+04</td>\n",
       "      <td>1.000000</td>\n",
       "      <td>0.000000</td>\n",
       "      <td>0.000000</td>\n",
       "      <td>1.000000</td>\n",
       "    </tr>\n",
       "    <tr>\n",
       "      <th>25%</th>\n",
       "      <td>28.000000</td>\n",
       "      <td>1.173925e+05</td>\n",
       "      <td>9.000000</td>\n",
       "      <td>0.000000</td>\n",
       "      <td>0.000000</td>\n",
       "      <td>40.000000</td>\n",
       "    </tr>\n",
       "    <tr>\n",
       "      <th>50%</th>\n",
       "      <td>37.000000</td>\n",
       "      <td>1.783120e+05</td>\n",
       "      <td>10.000000</td>\n",
       "      <td>0.000000</td>\n",
       "      <td>0.000000</td>\n",
       "      <td>40.000000</td>\n",
       "    </tr>\n",
       "    <tr>\n",
       "      <th>75%</th>\n",
       "      <td>47.000000</td>\n",
       "      <td>2.379030e+05</td>\n",
       "      <td>13.000000</td>\n",
       "      <td>0.000000</td>\n",
       "      <td>0.000000</td>\n",
       "      <td>45.000000</td>\n",
       "    </tr>\n",
       "    <tr>\n",
       "      <th>max</th>\n",
       "      <td>90.000000</td>\n",
       "      <td>1.490400e+06</td>\n",
       "      <td>16.000000</td>\n",
       "      <td>99999.000000</td>\n",
       "      <td>4356.000000</td>\n",
       "      <td>99.000000</td>\n",
       "    </tr>\n",
       "  </tbody>\n",
       "</table>\n",
       "</div>"
      ],
      "text/plain": [
       "                age        fnlwgt  educational-num  capital-gain  \\\n",
       "count  45175.000000  4.517500e+04     45175.000000  45175.000000   \n",
       "mean      38.556170  1.897388e+05        10.119314   1102.576270   \n",
       "std       13.215349  1.056524e+05         2.551740   7510.249876   \n",
       "min       17.000000  1.349200e+04         1.000000      0.000000   \n",
       "25%       28.000000  1.173925e+05         9.000000      0.000000   \n",
       "50%       37.000000  1.783120e+05        10.000000      0.000000   \n",
       "75%       47.000000  2.379030e+05        13.000000      0.000000   \n",
       "max       90.000000  1.490400e+06        16.000000  99999.000000   \n",
       "\n",
       "       capital-loss  hours-per-week  \n",
       "count  45175.000000    45175.000000  \n",
       "mean      88.687593       40.942512  \n",
       "std      405.156611       12.007730  \n",
       "min        0.000000        1.000000  \n",
       "25%        0.000000       40.000000  \n",
       "50%        0.000000       40.000000  \n",
       "75%        0.000000       45.000000  \n",
       "max     4356.000000       99.000000  "
      ]
     },
     "execution_count": 11,
     "metadata": {},
     "output_type": "execute_result"
    }
   ],
   "source": [
    "df.describe()"
   ]
  },
  {
   "cell_type": "markdown",
   "id": "6633ebb9-85cd-41c8-9afc-132ce35227fc",
   "metadata": {},
   "source": [
    "## ***11. Drop The Columns education-num, capital-gain and capital-loss***\n"
   ]
  },
  {
   "cell_type": "code",
   "execution_count": 12,
   "id": "fc429eaa-7639-4818-a203-845a91901529",
   "metadata": {},
   "outputs": [
    {
     "data": {
      "text/html": [
       "<div>\n",
       "<style scoped>\n",
       "    .dataframe tbody tr th:only-of-type {\n",
       "        vertical-align: middle;\n",
       "    }\n",
       "\n",
       "    .dataframe tbody tr th {\n",
       "        vertical-align: top;\n",
       "    }\n",
       "\n",
       "    .dataframe thead th {\n",
       "        text-align: right;\n",
       "    }\n",
       "</style>\n",
       "<table border=\"1\" class=\"dataframe\">\n",
       "  <thead>\n",
       "    <tr style=\"text-align: right;\">\n",
       "      <th></th>\n",
       "      <th>age</th>\n",
       "      <th>workclass</th>\n",
       "      <th>fnlwgt</th>\n",
       "      <th>education</th>\n",
       "      <th>marital-status</th>\n",
       "      <th>occupation</th>\n",
       "      <th>relationship</th>\n",
       "      <th>race</th>\n",
       "      <th>gender</th>\n",
       "      <th>hours-per-week</th>\n",
       "      <th>native-country</th>\n",
       "      <th>income</th>\n",
       "    </tr>\n",
       "  </thead>\n",
       "  <tbody>\n",
       "    <tr>\n",
       "      <th>0</th>\n",
       "      <td>25</td>\n",
       "      <td>Private</td>\n",
       "      <td>226802</td>\n",
       "      <td>11th</td>\n",
       "      <td>Never-married</td>\n",
       "      <td>Machine-op-inspct</td>\n",
       "      <td>Own-child</td>\n",
       "      <td>Black</td>\n",
       "      <td>Male</td>\n",
       "      <td>40</td>\n",
       "      <td>United-States</td>\n",
       "      <td>&lt;=50K</td>\n",
       "    </tr>\n",
       "    <tr>\n",
       "      <th>1</th>\n",
       "      <td>38</td>\n",
       "      <td>Private</td>\n",
       "      <td>89814</td>\n",
       "      <td>HS-grad</td>\n",
       "      <td>Married-civ-spouse</td>\n",
       "      <td>Farming-fishing</td>\n",
       "      <td>Husband</td>\n",
       "      <td>White</td>\n",
       "      <td>Male</td>\n",
       "      <td>50</td>\n",
       "      <td>United-States</td>\n",
       "      <td>&lt;=50K</td>\n",
       "    </tr>\n",
       "    <tr>\n",
       "      <th>2</th>\n",
       "      <td>28</td>\n",
       "      <td>Local-gov</td>\n",
       "      <td>336951</td>\n",
       "      <td>Assoc-acdm</td>\n",
       "      <td>Married-civ-spouse</td>\n",
       "      <td>Protective-serv</td>\n",
       "      <td>Husband</td>\n",
       "      <td>White</td>\n",
       "      <td>Male</td>\n",
       "      <td>40</td>\n",
       "      <td>United-States</td>\n",
       "      <td>&gt;50K</td>\n",
       "    </tr>\n",
       "    <tr>\n",
       "      <th>3</th>\n",
       "      <td>44</td>\n",
       "      <td>Private</td>\n",
       "      <td>160323</td>\n",
       "      <td>Some-college</td>\n",
       "      <td>Married-civ-spouse</td>\n",
       "      <td>Machine-op-inspct</td>\n",
       "      <td>Husband</td>\n",
       "      <td>Black</td>\n",
       "      <td>Male</td>\n",
       "      <td>40</td>\n",
       "      <td>United-States</td>\n",
       "      <td>&gt;50K</td>\n",
       "    </tr>\n",
       "    <tr>\n",
       "      <th>5</th>\n",
       "      <td>34</td>\n",
       "      <td>Private</td>\n",
       "      <td>198693</td>\n",
       "      <td>10th</td>\n",
       "      <td>Never-married</td>\n",
       "      <td>Other-service</td>\n",
       "      <td>Not-in-family</td>\n",
       "      <td>White</td>\n",
       "      <td>Male</td>\n",
       "      <td>30</td>\n",
       "      <td>United-States</td>\n",
       "      <td>&lt;=50K</td>\n",
       "    </tr>\n",
       "    <tr>\n",
       "      <th>7</th>\n",
       "      <td>63</td>\n",
       "      <td>Self-emp-not-inc</td>\n",
       "      <td>104626</td>\n",
       "      <td>Prof-school</td>\n",
       "      <td>Married-civ-spouse</td>\n",
       "      <td>Prof-specialty</td>\n",
       "      <td>Husband</td>\n",
       "      <td>White</td>\n",
       "      <td>Male</td>\n",
       "      <td>32</td>\n",
       "      <td>United-States</td>\n",
       "      <td>&gt;50K</td>\n",
       "    </tr>\n",
       "    <tr>\n",
       "      <th>8</th>\n",
       "      <td>24</td>\n",
       "      <td>Private</td>\n",
       "      <td>369667</td>\n",
       "      <td>Some-college</td>\n",
       "      <td>Never-married</td>\n",
       "      <td>Other-service</td>\n",
       "      <td>Unmarried</td>\n",
       "      <td>White</td>\n",
       "      <td>Female</td>\n",
       "      <td>40</td>\n",
       "      <td>United-States</td>\n",
       "      <td>&lt;=50K</td>\n",
       "    </tr>\n",
       "    <tr>\n",
       "      <th>9</th>\n",
       "      <td>55</td>\n",
       "      <td>Private</td>\n",
       "      <td>104996</td>\n",
       "      <td>7th-8th</td>\n",
       "      <td>Married-civ-spouse</td>\n",
       "      <td>Craft-repair</td>\n",
       "      <td>Husband</td>\n",
       "      <td>White</td>\n",
       "      <td>Male</td>\n",
       "      <td>10</td>\n",
       "      <td>United-States</td>\n",
       "      <td>&lt;=50K</td>\n",
       "    </tr>\n",
       "    <tr>\n",
       "      <th>10</th>\n",
       "      <td>65</td>\n",
       "      <td>Private</td>\n",
       "      <td>184454</td>\n",
       "      <td>HS-grad</td>\n",
       "      <td>Married-civ-spouse</td>\n",
       "      <td>Machine-op-inspct</td>\n",
       "      <td>Husband</td>\n",
       "      <td>White</td>\n",
       "      <td>Male</td>\n",
       "      <td>40</td>\n",
       "      <td>United-States</td>\n",
       "      <td>&gt;50K</td>\n",
       "    </tr>\n",
       "    <tr>\n",
       "      <th>11</th>\n",
       "      <td>36</td>\n",
       "      <td>Federal-gov</td>\n",
       "      <td>212465</td>\n",
       "      <td>Bachelors</td>\n",
       "      <td>Married-civ-spouse</td>\n",
       "      <td>Adm-clerical</td>\n",
       "      <td>Husband</td>\n",
       "      <td>White</td>\n",
       "      <td>Male</td>\n",
       "      <td>40</td>\n",
       "      <td>United-States</td>\n",
       "      <td>&lt;=50K</td>\n",
       "    </tr>\n",
       "  </tbody>\n",
       "</table>\n",
       "</div>"
      ],
      "text/plain": [
       "    age         workclass  fnlwgt     education      marital-status  \\\n",
       "0    25           Private  226802          11th       Never-married   \n",
       "1    38           Private   89814       HS-grad  Married-civ-spouse   \n",
       "2    28         Local-gov  336951    Assoc-acdm  Married-civ-spouse   \n",
       "3    44           Private  160323  Some-college  Married-civ-spouse   \n",
       "5    34           Private  198693          10th       Never-married   \n",
       "7    63  Self-emp-not-inc  104626   Prof-school  Married-civ-spouse   \n",
       "8    24           Private  369667  Some-college       Never-married   \n",
       "9    55           Private  104996       7th-8th  Married-civ-spouse   \n",
       "10   65           Private  184454       HS-grad  Married-civ-spouse   \n",
       "11   36       Federal-gov  212465     Bachelors  Married-civ-spouse   \n",
       "\n",
       "           occupation   relationship   race  gender  hours-per-week  \\\n",
       "0   Machine-op-inspct      Own-child  Black    Male              40   \n",
       "1     Farming-fishing        Husband  White    Male              50   \n",
       "2     Protective-serv        Husband  White    Male              40   \n",
       "3   Machine-op-inspct        Husband  Black    Male              40   \n",
       "5       Other-service  Not-in-family  White    Male              30   \n",
       "7      Prof-specialty        Husband  White    Male              32   \n",
       "8       Other-service      Unmarried  White  Female              40   \n",
       "9        Craft-repair        Husband  White    Male              10   \n",
       "10  Machine-op-inspct        Husband  White    Male              40   \n",
       "11       Adm-clerical        Husband  White    Male              40   \n",
       "\n",
       "   native-country income  \n",
       "0   United-States  <=50K  \n",
       "1   United-States  <=50K  \n",
       "2   United-States   >50K  \n",
       "3   United-States   >50K  \n",
       "5   United-States  <=50K  \n",
       "7   United-States   >50K  \n",
       "8   United-States  <=50K  \n",
       "9   United-States  <=50K  \n",
       "10  United-States   >50K  \n",
       "11  United-States  <=50K  "
      ]
     },
     "execution_count": 12,
     "metadata": {},
     "output_type": "execute_result"
    }
   ],
   "source": [
    "df.drop(['educational-num', 'capital-gain', 'capital-loss'], axis=1, inplace=True)\n",
    "\n",
    "df.head(10)"
   ]
  },
  {
   "cell_type": "markdown",
   "id": "5535a0e0-80f6-4afa-a9c1-fc0e7ba87746",
   "metadata": {},
   "source": [
    "## ***12. What Is The Distribution of Age Column Show In Graph?***\n"
   ]
  },
  {
   "cell_type": "code",
   "execution_count": 13,
   "id": "ed38ae15-ab79-4e54-9fa8-ac0e8890719c",
   "metadata": {},
   "outputs": [
    {
     "data": {
      "image/png": "[encoded data removed]",
      "text/plain": [
       "<Figure size 640x480 with 1 Axes>"
      ]
     },
     "metadata": {},
     "output_type": "display_data"
    }
   ],
   "source": [
    "plt.hist(df['age'], bins=30, color=\"blue\")\n",
    "plt.title(\"Age Distribution\")\n",
    "plt.xlabel('Age')\n",
    "plt.show()"
   ]
  },
  {
   "cell_type": "markdown",
   "id": "23b64339-c83e-4d02-9c0b-49d4d4880d55",
   "metadata": {},
   "source": [
    "## ***13. Find Total Number of Persons Having Age Between 17 To 48 (Inclusive) Using Between Method And Also Without Using Between Method***"
   ]
  },
  {
   "cell_type": "code",
   "execution_count": 14,
   "id": "e53e1766-4039-4fbf-976d-c8e5c5ecfe76",
   "metadata": {},
   "outputs": [
    {
     "name": "stdout",
     "output_type": "stream",
     "text": [
      "Persons between 17 and 48 using between :  34858\n",
      "Persons between 17 and 48 without using between :  34858\n"
     ]
    }
   ],
   "source": [
    "# total_persons = df[df['Age'].between(17, 48, inclusive=True)].shape[0]\n",
    "\n",
    "persons_between_17_and_48_using_between = df[df['age'].between(17,48, inclusive='both')].shape[0]\n",
    "persons_between_17_and_48_without_using_between = df[(df['age'] >= 17) & (df['age'] <= 48)].shape[0]\n",
    "\n",
    "print(\"Persons between 17 and 48 using between : \", persons_between_17_and_48_using_between)\n",
    "print(\"Persons between 17 and 48 without using between : \", persons_between_17_and_48_without_using_between)"
   ]
  },
  {
   "cell_type": "markdown",
   "id": "1ae999ae-df80-483a-8a0e-d7560edbbac8",
   "metadata": {},
   "source": [
    "## ***14. What is The Distribution of Workclass Column***"
   ]
  },
  {
   "cell_type": "code",
   "execution_count": 15,
   "id": "a7714630-074c-42c3-ba7a-383ff4291edb",
   "metadata": {},
   "outputs": [
    {
     "data": {
      "image/png": "[encoded data removed]",
      "text/plain": [
       "<Figure size 640x480 with 1 Axes>"
      ]
     },
     "metadata": {},
     "output_type": "display_data"
    }
   ],
   "source": [
    "plt.pie(df['workclass'].value_counts(),labels=df['workclass'].value_counts().index, autopct=\"%2.2f%%\")\n",
    "\n",
    "plt.show()"
   ]
  },
  {
   "cell_type": "markdown",
   "id": "19eff2cb-152c-4533-9f0a-1ac92fb21b16",
   "metadata": {},
   "source": [
    "## ***15. How Many Person Having Bachelors or Masters Degree***"
   ]
  },
  {
   "cell_type": "code",
   "execution_count": 16,
   "id": "ee6dee18-d84e-478b-8624-e860a309e1d9",
   "metadata": {},
   "outputs": [
    {
     "name": "stdout",
     "output_type": "stream",
     "text": [
      "Persons with Bachelor degree :  7559\n",
      "Persons with Masters degree :  2513\n"
     ]
    }
   ],
   "source": [
    "value_counts = df['education'].value_counts()\n",
    "\n",
    "print(\"Persons with Bachelor degree : \", value_counts.Bachelors)\n",
    "print(\"Persons with Masters degree : \", value_counts.Masters)"
   ]
  },
  {
   "cell_type": "markdown",
   "id": "effdc572-3527-4d5e-984b-2007272a960e",
   "metadata": {},
   "source": [
    "## ***16. Create A Boxplot Of The \"Income\" Column Against The \"Age\" Column, Segmented By Gender***"
   ]
  },
  {
   "cell_type": "code",
   "execution_count": 17,
   "id": "265b174e-4610-40ff-8321-a51669b634f3",
   "metadata": {},
   "outputs": [
    {
     "data": {
      "image/png": "[encoded data removed]",
      "text/plain": [
       "<Figure size 1200x600 with 1 Axes>"
      ]
     },
     "metadata": {},
     "output_type": "display_data"
    }
   ],
   "source": [
    "\n",
    "# plt.figure(figsize=(12, 6))\n",
    "# sns.boxplot(data=df, x='age', y='income', hue='gender', orient=\"v\")\n",
    "# plt.title('Boxplot of Income by Age Segmented by Gender')\n",
    "# plt.xlabel('Age')\n",
    "# plt.ylabel('Income')\n",
    "# plt.legend(title='Gender')\n",
    "# plt.show()\n",
    "\n",
    "plt.figure(figsize=(12,6))\n",
    "sns.boxplot(data=df, x='age', y='income', hue='gender')\n",
    "plt.xlabel(\"Age\")\n",
    "plt.ylabel(\"Income\")\n",
    "plt.show()"
   ]
  },
  {
   "cell_type": "markdown",
   "id": "1bff8b30-d35b-4b15-a329-f3ad0141161a",
   "metadata": {},
   "source": [
    "## ***17. Replace income value [<=50k with 0 and >50k with 1]***"
   ]
  },
  {
   "cell_type": "code",
   "execution_count": 24,
   "id": "aaa9ea60-4a19-4cb9-bb98-33f7ce0250e1",
   "metadata": {},
   "outputs": [
    {
     "name": "stdout",
     "output_type": "stream",
     "text": [
      "<bound method NDFrame.head of        age     workclass  fnlwgt     education      marital-status  \\\n",
      "0       25       Private  226802          11th       Never-married   \n",
      "1       38       Private   89814       HS-grad  Married-civ-spouse   \n",
      "2       28     Local-gov  336951    Assoc-acdm  Married-civ-spouse   \n",
      "3       44       Private  160323  Some-college  Married-civ-spouse   \n",
      "5       34       Private  198693          10th       Never-married   \n",
      "...    ...           ...     ...           ...                 ...   \n",
      "48837   27       Private  257302    Assoc-acdm  Married-civ-spouse   \n",
      "48838   40       Private  154374       HS-grad  Married-civ-spouse   \n",
      "48839   58       Private  151910       HS-grad             Widowed   \n",
      "48840   22       Private  201490       HS-grad       Never-married   \n",
      "48841   52  Self-emp-inc  287927       HS-grad  Married-civ-spouse   \n",
      "\n",
      "              occupation   relationship   race  gender  hours-per-week  \\\n",
      "0      Machine-op-inspct      Own-child  Black    Male              40   \n",
      "1        Farming-fishing        Husband  White    Male              50   \n",
      "2        Protective-serv        Husband  White    Male              40   \n",
      "3      Machine-op-inspct        Husband  Black    Male              40   \n",
      "5          Other-service  Not-in-family  White    Male              30   \n",
      "...                  ...            ...    ...     ...             ...   \n",
      "48837       Tech-support           Wife  White  Female              38   \n",
      "48838  Machine-op-inspct        Husband  White    Male              40   \n",
      "48839       Adm-clerical      Unmarried  White  Female              40   \n",
      "48840       Adm-clerical      Own-child  White    Male              20   \n",
      "48841    Exec-managerial           Wife  White  Female              40   \n",
      "\n",
      "      native-country income  \n",
      "0      United-States      0  \n",
      "1      United-States      0  \n",
      "2      United-States      1  \n",
      "3      United-States      1  \n",
      "5      United-States      0  \n",
      "...              ...    ...  \n",
      "48837  United-States      0  \n",
      "48838  United-States      1  \n",
      "48839  United-States      0  \n",
      "48840  United-States      0  \n",
      "48841  United-States      1  \n",
      "\n",
      "[45175 rows x 12 columns]>\n"
     ]
    }
   ],
   "source": [
    "df.loc[df[\"income\"] == '<=50K', 'income'] = 0\n",
    "df.loc[df[\"income\"] == '>50K', 'income'] = 1\n",
    "print(df.head)"
   ]
  },
  {
   "cell_type": "markdown",
   "id": "cef888b2-216d-4df1-b2b5-8a3ab4f6730f",
   "metadata": {},
   "source": [
    "## ***18. Which Workclass getting The Highest Salary***"
   ]
  },
  {
   "cell_type": "code",
   "execution_count": 38,
   "id": "66079383-d7b7-4679-b8c6-aec92b8a42f1",
   "metadata": {},
   "outputs": [
    {
     "data": {
      "text/plain": [
       "workclass\n",
       "Private             7245\n",
       "Self-emp-not-inc    1059\n",
       "Local-gov            915\n",
       "Self-emp-inc         912\n",
       "Federal-gov          549\n",
       "State-gov            520\n",
       "Without-pay            2\n",
       "Name: count, dtype: int64"
      ]
     },
     "execution_count": 38,
     "metadata": {},
     "output_type": "execute_result"
    }
   ],
   "source": [
    "df[df['income'] == 1]['workclass'].value_counts()"
   ]
  },
  {
   "cell_type": "markdown",
   "id": "1b4f6a67-714b-4e77-b420-6df3f4ff007d",
   "metadata": {},
   "source": [
    "## ***19. Who Has Better Chance To Get Salary >50k Male or Female***"
   ]
  },
  {
   "cell_type": "code",
   "execution_count": 40,
   "id": "91304af4-4324-45af-972f-3ec347487e8c",
   "metadata": {},
   "outputs": [
    {
     "data": {
      "text/plain": [
       "'Male'"
      ]
     },
     "execution_count": 40,
     "metadata": {},
     "output_type": "execute_result"
    }
   ],
   "source": [
    "(df[df['income'] == 1]['gender'].value_counts()).idxmax()"
   ]
  },
  {
   "cell_type": "markdown",
   "id": "e71ae02e-1b99-48db-bb73-464a4b2f3e2f",
   "metadata": {},
   "source": [
    "## ***20. Convert Workclass Column DataType To Category Datatype***"
   ]
  },
  {
   "cell_type": "code",
   "execution_count": 44,
   "id": "0e9c5e84-ada4-4d19-8394-46ac04561edd",
   "metadata": {},
   "outputs": [],
   "source": [
    "df['workclass'] = df['workclass'].astype('category')"
   ]
  },
  {
   "cell_type": "code",
   "execution_count": 50,
   "id": "08b18320-0a35-4301-8478-b2ebde64c9f0",
   "metadata": {},
   "outputs": [
    {
     "name": "stdout",
     "output_type": "stream",
     "text": [
      "<class 'pandas.core.frame.DataFrame'>\n",
      "Index: 45175 entries, 0 to 48841\n",
      "Data columns (total 12 columns):\n",
      " #   Column          Non-Null Count  Dtype   \n",
      "---  ------          --------------  -----   \n",
      " 0   age             45175 non-null  int64   \n",
      " 1   workclass       45175 non-null  category\n",
      " 2   fnlwgt          45175 non-null  int64   \n",
      " 3   education       45175 non-null  object  \n",
      " 4   marital-status  45175 non-null  object  \n",
      " 5   occupation      45175 non-null  object  \n",
      " 6   relationship    45175 non-null  object  \n",
      " 7   race            45175 non-null  object  \n",
      " 8   gender          45175 non-null  object  \n",
      " 9   hours-per-week  45175 non-null  int64   \n",
      " 10  native-country  45175 non-null  object  \n",
      " 11  income          45175 non-null  object  \n",
      "dtypes: category(1), int64(3), object(8)\n",
      "memory usage: 4.2+ MB\n"
     ]
    }
   ],
   "source": [
    "df['workclass'].dtype\n",
    "\n",
    "df.info()"
   ]
  },
  {
   "cell_type": "code",
   "execution_count": null,
   "id": "de95df88-1d1e-4541-812f-d0b4c5292445",
   "metadata": {},
   "outputs": [],
   "source": []
  }
 ],
 "metadata": {
  "kernelspec": {
   "display_name": "Python 3 (ipykernel)",
   "language": "python",
   "name": "python3"
  },
  "language_info": {
   "codemirror_mode": {
    "name": "ipython",
    "version": 3
   },
   "file_extension": ".py",
   "mimetype": "text/x-python",
   "name": "python",
   "nbconvert_exporter": "python",
   "pygments_lexer": "ipython3",
   "version": "3.12.4"
  }
 },
 "nbformat": 4,
 "nbformat_minor": 5
}
