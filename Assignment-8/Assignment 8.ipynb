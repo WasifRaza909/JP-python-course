{
 "cells": [
  {
   "cell_type": "code",
   "execution_count": 1,
   "id": "c59f0661-480c-482a-a899-655d88879f25",
   "metadata": {},
   "outputs": [],
   "source": [
    "import csv"
   ]
  },
  {
   "cell_type": "code",
   "execution_count": 2,
   "id": "7bb6f716-0fd4-4a25-a640-9ed772fe63f2",
   "metadata": {},
   "outputs": [
    {
     "data": {
      "text/plain": [
       "['Dialect',\n",
       " 'DictReader',\n",
       " 'DictWriter',\n",
       " 'Error',\n",
       " 'QUOTE_ALL',\n",
       " 'QUOTE_MINIMAL',\n",
       " 'QUOTE_NONE',\n",
       " 'QUOTE_NONNUMERIC',\n",
       " 'QUOTE_NOTNULL',\n",
       " 'QUOTE_STRINGS',\n",
       " 'Sniffer',\n",
       " 'StringIO',\n",
       " '_Dialect',\n",
       " '__all__',\n",
       " '__builtins__',\n",
       " '__cached__',\n",
       " '__doc__',\n",
       " '__file__',\n",
       " '__loader__',\n",
       " '__name__',\n",
       " '__package__',\n",
       " '__spec__',\n",
       " '__version__',\n",
       " 'excel',\n",
       " 'excel_tab',\n",
       " 'field_size_limit',\n",
       " 'get_dialect',\n",
       " 'list_dialects',\n",
       " 're',\n",
       " 'reader',\n",
       " 'register_dialect',\n",
       " 'types',\n",
       " 'unix_dialect',\n",
       " 'unregister_dialect',\n",
       " 'writer']"
      ]
     },
     "execution_count": 2,
     "metadata": {},
     "output_type": "execute_result"
    }
   ],
   "source": [
    "dir(csv)"
   ]
  },
  {
   "cell_type": "code",
   "execution_count": 3,
   "id": "acd4a746-098e-4ebe-b576-86c355007e1e",
   "metadata": {},
   "outputs": [
    {
     "data": {
      "text/plain": [
       "<_io.TextIOWrapper name='student_data.csv' mode='r' encoding='cp1252'>"
      ]
     },
     "execution_count": 3,
     "metadata": {},
     "output_type": "execute_result"
    }
   ],
   "source": [
    "open_file = open('student_data.csv', mode='r')\n",
    "open_file"
   ]
  },
  {
   "cell_type": "code",
   "execution_count": 4,
   "id": "6ce8bff8-af7d-4348-a78f-7b382c79c1a4",
   "metadata": {},
   "outputs": [
    {
     "data": {
      "text/plain": [
       "<_csv.reader at 0x16478510940>"
      ]
     },
     "execution_count": 4,
     "metadata": {},
     "output_type": "execute_result"
    }
   ],
   "source": [
    "read = csv.reader(open_file)\n",
    "read"
   ]
  },
  {
   "cell_type": "code",
   "execution_count": 5,
   "id": "6c4ff05e-4014-4010-bf47-4016bbed6b79",
   "metadata": {},
   "outputs": [
    {
     "data": {
      "text/plain": [
       "[['roll no', 'Name', 'Chemistry', 'Physics', 'Math'],\n",
       " ['101', 'Aliza', '50', '23', '87'],\n",
       " ['102', 'Fareed', '45', '24', '88'],\n",
       " ['103', 'Basit', '46', '25', '89'],\n",
       " ['104', 'Abdullah', '47', '26', '90'],\n",
       " ['105', 'Ali', '48', '27', '67'],\n",
       " ['106', 'Mubashir', '49', '28', '68'],\n",
       " ['107', 'Waleed', '50', '29', '69'],\n",
       " ['108', 'Mansoor', '51', '30', '70'],\n",
       " ['109', 'Zain', '52', '31', '71'],\n",
       " ['110', 'Mohsin', '53', '67', '72'],\n",
       " ['111', 'Shahmeer', '54', '68', '73'],\n",
       " ['112', 'Rao', '55', '69', '74'],\n",
       " ['113', 'Aurangzeb', '56', '70', '75'],\n",
       " ['114', 'Zeeshan', '57', '71', '76'],\n",
       " ['115', 'Hamna', '58', '72', '77'],\n",
       " ['116', 'Hamza', '59', '73', '78'],\n",
       " ['117', 'Khalid', '60', '74', '79'],\n",
       " ['118', 'Behroz', '61', '75', '80'],\n",
       " ['119', 'Justin', '62', '76', '81'],\n",
       " ['120', 'Danish', '63', '77', '82'],\n",
       " ['121', 'Kainat', '64', '78', '83'],\n",
       " ['122', 'Sameer', '65', '79', '84'],\n",
       " ['123', 'Raza', '66', '80', '85'],\n",
       " ['124', 'Kumar', '67', '81', '86'],\n",
       " ['125', 'Komal', '68', '82', '87'],\n",
       " ['126', 'Erum', '69', '83', '88'],\n",
       " ['127', 'Faiza', '70', '84', '89'],\n",
       " ['128', 'Saeed', '71', '85', '90'],\n",
       " ['129', 'Waqar', '72', '86', '91'],\n",
       " ['130', 'Wali', '73', '87', '92'],\n",
       " ['131', 'Wajid', '74', '88', '93'],\n",
       " ['132', 'Waseeb', '75', '89', '94'],\n",
       " ['133', 'Shiza', '76', '90', '95'],\n",
       " ['134', 'Shabina', '77', '91', '96'],\n",
       " ['135', 'Shazain', '78', '55', '97'],\n",
       " ['136', 'Lubna', '79', '61', '98'],\n",
       " ['137', 'Laiba', '80', '88', '78'],\n",
       " ['138', 'Khursheed', '81', '56', '45'],\n",
       " ['139', 'Ali', '82', '89', '46'],\n",
       " ['140', 'Aiza', '83', '45', '89'],\n",
       " ['141', 'Aiman', '84', '92', '78'],\n",
       " ['142', 'Yasmeen', '85', '36', '56'],\n",
       " ['143', 'Tasbeel', '86', '78', '78'],\n",
       " ['144', 'Laraib', '87', '56', '54'],\n",
       " ['145', 'Saleem', '88', '78', '78'],\n",
       " ['146', 'Bismil', '89', '89', '46'],\n",
       " ['147', 'Batool', '90', '56', '79'],\n",
       " ['148', 'Iqra', '91', '33', '46'],\n",
       " ['149', 'Zarnish', '92', '78', '45'],\n",
       " ['150', 'Zara', '83', '45', '56']]"
      ]
     },
     "execution_count": 5,
     "metadata": {},
     "output_type": "execute_result"
    }
   ],
   "source": [
    "student_data = list(read)\n",
    "student_data"
   ]
  },
  {
   "cell_type": "code",
   "execution_count": 6,
   "id": "94e7f37f-b46f-4ae4-a719-0d4934c34a44",
   "metadata": {},
   "outputs": [
    {
     "data": {
      "text/plain": [
       "['roll no', 'Name', 'Chemistry', 'Physics', 'Math']"
      ]
     },
     "execution_count": 6,
     "metadata": {},
     "output_type": "execute_result"
    }
   ],
   "source": [
    "header = student_data[0]\n",
    "header"
   ]
  },
  {
   "cell_type": "code",
   "execution_count": 7,
   "id": "59c0b989-4465-47d6-942a-4af275030e61",
   "metadata": {},
   "outputs": [
    {
     "data": {
      "text/plain": [
       "[['101', 'Aliza', '50', '23', '87'],\n",
       " ['102', 'Fareed', '45', '24', '88'],\n",
       " ['103', 'Basit', '46', '25', '89'],\n",
       " ['104', 'Abdullah', '47', '26', '90'],\n",
       " ['105', 'Ali', '48', '27', '67'],\n",
       " ['106', 'Mubashir', '49', '28', '68'],\n",
       " ['107', 'Waleed', '50', '29', '69'],\n",
       " ['108', 'Mansoor', '51', '30', '70'],\n",
       " ['109', 'Zain', '52', '31', '71'],\n",
       " ['110', 'Mohsin', '53', '67', '72'],\n",
       " ['111', 'Shahmeer', '54', '68', '73'],\n",
       " ['112', 'Rao', '55', '69', '74'],\n",
       " ['113', 'Aurangzeb', '56', '70', '75'],\n",
       " ['114', 'Zeeshan', '57', '71', '76'],\n",
       " ['115', 'Hamna', '58', '72', '77'],\n",
       " ['116', 'Hamza', '59', '73', '78'],\n",
       " ['117', 'Khalid', '60', '74', '79'],\n",
       " ['118', 'Behroz', '61', '75', '80'],\n",
       " ['119', 'Justin', '62', '76', '81'],\n",
       " ['120', 'Danish', '63', '77', '82'],\n",
       " ['121', 'Kainat', '64', '78', '83'],\n",
       " ['122', 'Sameer', '65', '79', '84'],\n",
       " ['123', 'Raza', '66', '80', '85'],\n",
       " ['124', 'Kumar', '67', '81', '86'],\n",
       " ['125', 'Komal', '68', '82', '87'],\n",
       " ['126', 'Erum', '69', '83', '88'],\n",
       " ['127', 'Faiza', '70', '84', '89'],\n",
       " ['128', 'Saeed', '71', '85', '90'],\n",
       " ['129', 'Waqar', '72', '86', '91'],\n",
       " ['130', 'Wali', '73', '87', '92'],\n",
       " ['131', 'Wajid', '74', '88', '93'],\n",
       " ['132', 'Waseeb', '75', '89', '94'],\n",
       " ['133', 'Shiza', '76', '90', '95'],\n",
       " ['134', 'Shabina', '77', '91', '96'],\n",
       " ['135', 'Shazain', '78', '55', '97'],\n",
       " ['136', 'Lubna', '79', '61', '98'],\n",
       " ['137', 'Laiba', '80', '88', '78'],\n",
       " ['138', 'Khursheed', '81', '56', '45'],\n",
       " ['139', 'Ali', '82', '89', '46'],\n",
       " ['140', 'Aiza', '83', '45', '89'],\n",
       " ['141', 'Aiman', '84', '92', '78'],\n",
       " ['142', 'Yasmeen', '85', '36', '56'],\n",
       " ['143', 'Tasbeel', '86', '78', '78'],\n",
       " ['144', 'Laraib', '87', '56', '54'],\n",
       " ['145', 'Saleem', '88', '78', '78'],\n",
       " ['146', 'Bismil', '89', '89', '46'],\n",
       " ['147', 'Batool', '90', '56', '79'],\n",
       " ['148', 'Iqra', '91', '33', '46'],\n",
       " ['149', 'Zarnish', '92', '78', '45'],\n",
       " ['150', 'Zara', '83', '45', '56']]"
      ]
     },
     "execution_count": 7,
     "metadata": {},
     "output_type": "execute_result"
    }
   ],
   "source": [
    "data_without_header = student_data[1:]\n",
    "data_without_header"
   ]
  },
  {
   "cell_type": "code",
   "execution_count": 8,
   "id": "08d49b7e-532f-42e0-9cae-7a24c3c43b0c",
   "metadata": {},
   "outputs": [
    {
     "name": "stdout",
     "output_type": "stream",
     "text": [
      "65.06\n",
      "68.42\n",
      "77.36\n"
     ]
    },
    {
     "data": {
      "text/plain": [
       "[['roll no', 'Name', 'Chemistry', 'Physics', 'Math', 'Percentage', 'Grade'],\n",
       " ['101', 'Aliza', '50', '23', '87', 53.33, 'D'],\n",
       " ['102', 'Fareed', '45', '24', '88', 52.33, 'D'],\n",
       " ['103', 'Basit', '46', '25', '89', 53.33, 'D'],\n",
       " ['104', 'Abdullah', '47', '26', '90', 54.33, 'D'],\n",
       " ['105', 'Ali', '48', '27', '67', 47.33, 'Fail'],\n",
       " ['106', 'Mubashir', '49', '28', '68', 48.33, 'Fail'],\n",
       " ['107', 'Waleed', '50', '29', '69', 49.33, 'Fail'],\n",
       " ['108', 'Mansoor', '51', '30', '70', 50.33, 'D'],\n",
       " ['109', 'Zain', '52', '31', '71', 51.33, 'D'],\n",
       " ['110', 'Mohsin', '53', '67', '72', 64.0, 'C'],\n",
       " ['111', 'Shahmeer', '54', '68', '73', 65.0, 'C'],\n",
       " ['112', 'Rao', '55', '69', '74', 66.0, 'C'],\n",
       " ['113', 'Aurangzeb', '56', '70', '75', 67.0, 'C'],\n",
       " ['114', 'Zeeshan', '57', '71', '76', 68.0, 'C'],\n",
       " ['115', 'Hamna', '58', '72', '77', 69.0, 'C'],\n",
       " ['116', 'Hamza', '59', '73', '78', 70.0, 'C'],\n",
       " ['117', 'Khalid', '60', '74', '79', 71.0, 'B'],\n",
       " ['118', 'Behroz', '61', '75', '80', 72.0, 'B'],\n",
       " ['119', 'Justin', '62', '76', '81', 73.0, 'B'],\n",
       " ['120', 'Danish', '63', '77', '82', 74.0, 'B'],\n",
       " ['121', 'Kainat', '64', '78', '83', 75.0, 'B'],\n",
       " ['122', 'Sameer', '65', '79', '84', 76.0, 'B'],\n",
       " ['123', 'Raza', '66', '80', '85', 77.0, 'B'],\n",
       " ['124', 'Kumar', '67', '81', '86', 78.0, 'B'],\n",
       " ['125', 'Komal', '68', '82', '87', 79.0, 'B'],\n",
       " ['126', 'Erum', '69', '83', '88', 80.0, 'B'],\n",
       " ['127', 'Faiza', '70', '84', '89', 81.0, 'A'],\n",
       " ['128', 'Saeed', '71', '85', '90', 82.0, 'A'],\n",
       " ['129', 'Waqar', '72', '86', '91', 83.0, 'A'],\n",
       " ['130', 'Wali', '73', '87', '92', 84.0, 'A'],\n",
       " ['131', 'Wajid', '74', '88', '93', 85.0, 'A'],\n",
       " ['132', 'Waseeb', '75', '89', '94', 86.0, 'A'],\n",
       " ['133', 'Shiza', '76', '90', '95', 87.0, 'A'],\n",
       " ['134', 'Shabina', '77', '91', '96', 88.0, 'A'],\n",
       " ['135', 'Shazain', '78', '55', '97', 76.67, 'B'],\n",
       " ['136', 'Lubna', '79', '61', '98', 79.33, 'B'],\n",
       " ['137', 'Laiba', '80', '88', '78', 82.0, 'A'],\n",
       " ['138', 'Khursheed', '81', '56', '45', 60.67, 'C'],\n",
       " ['139', 'Ali', '82', '89', '46', 72.33, 'B'],\n",
       " ['140', 'Aiza', '83', '45', '89', 72.33, 'B'],\n",
       " ['141', 'Aiman', '84', '92', '78', 84.67, 'A'],\n",
       " ['142', 'Yasmeen', '85', '36', '56', 59.0, 'D'],\n",
       " ['143', 'Tasbeel', '86', '78', '78', 80.67, 'A'],\n",
       " ['144', 'Laraib', '87', '56', '54', 65.67, 'C'],\n",
       " ['145', 'Saleem', '88', '78', '78', 81.33, 'A'],\n",
       " ['146', 'Bismil', '89', '89', '46', 74.67, 'B'],\n",
       " ['147', 'Batool', '90', '56', '79', 75.0, 'B'],\n",
       " ['148', 'Iqra', '91', '33', '46', 56.67, 'D'],\n",
       " ['149', 'Zarnish', '92', '78', '45', 71.67, 'B'],\n",
       " ['150', 'Zara', '83', '45', '56', 61.33, 'C'],\n",
       " ['Average Marks', '', 68.42, 65.06, 77.36]]"
      ]
     },
     "execution_count": 8,
     "metadata": {},
     "output_type": "execute_result"
    }
   ],
   "source": [
    "phy_average_marks = 0;\n",
    "chem_average_marks = 0;\n",
    "math_average_marks = 0;\n",
    "for data in data_without_header:\n",
    "    phy_average_marks += int(data[3])\n",
    "    chem_average_marks += int(data[2])\n",
    "    math_average_marks += int(data[4])\n",
    "    per = round(((int(data[3]) + int(data[2]) + int(data[4])) / 300) * 100, 2)\n",
    "    grade = '';\n",
    "    if per > 90:\n",
    "        grade = 'A+'\n",
    "    elif per > 80:\n",
    "        grade = 'A'\n",
    "    elif per > 70:\n",
    "        grade = 'B'\n",
    "    elif per > 60:\n",
    "        grade = 'C'\n",
    "    elif per > 50:\n",
    "        grade = 'D'\n",
    "    else:\n",
    "        grade = 'Fail'\n",
    "        \n",
    "\n",
    "    data.append(per)\n",
    "    data.append(grade)\n",
    "\n",
    "phy_average_marks = phy_average_marks / 50\n",
    "chem_average_marks = chem_average_marks / 50\n",
    "math_average_marks = math_average_marks / 50\n",
    "\n",
    "print(phy_average_marks)\n",
    "print(chem_average_marks)\n",
    "print(math_average_marks)\n",
    "average_marks = [\"Average Marks\", '',chem_average_marks, phy_average_marks, math_average_marks]\n",
    "\n",
    "header.append('Percentage')\n",
    "header.append('Grade')\n",
    "header\n",
    "student_data.append(average_marks)\n",
    "student_data"
   ]
  },
  {
   "cell_type": "code",
   "execution_count": 9,
   "id": "f20a5fa6-3f38-4841-a887-16031a7c2505",
   "metadata": {},
   "outputs": [
    {
     "data": {
      "text/plain": [
       "<_io.TextIOWrapper name='final_student_data.csv' mode='w' encoding='cp1252'>"
      ]
     },
     "execution_count": 9,
     "metadata": {},
     "output_type": "execute_result"
    }
   ],
   "source": [
    "open_file = open(\"final_student_data.csv\",mode='w',newline='')\n",
    "open_file"
   ]
  },
  {
   "cell_type": "code",
   "execution_count": 10,
   "id": "835f336e-db07-4aea-8647-921ae6c6f900",
   "metadata": {},
   "outputs": [
    {
     "data": {
      "text/plain": [
       "<_csv.writer at 0x16478510b80>"
      ]
     },
     "execution_count": 10,
     "metadata": {},
     "output_type": "execute_result"
    }
   ],
   "source": [
    "writer = csv.writer(open_file)\n",
    "writer"
   ]
  },
  {
   "cell_type": "code",
   "execution_count": 11,
   "id": "49fdb916-5d02-40df-a352-c41c337c7c8c",
   "metadata": {},
   "outputs": [],
   "source": [
    "writer.writerows(student_data)"
   ]
  },
  {
   "cell_type": "code",
   "execution_count": 12,
   "id": "a73e2bfb-ea9a-43b5-b2be-196b339a56e0",
   "metadata": {},
   "outputs": [],
   "source": [
    "open_file.close()"
   ]
  },
  {
   "cell_type": "code",
   "execution_count": null,
   "id": "6e4c1746-ae69-455f-a206-ed995f4bf3f2",
   "metadata": {},
   "outputs": [],
   "source": []
  }
 ],
 "metadata": {
  "kernelspec": {
   "display_name": "Python 3 (ipykernel)",
   "language": "python",
   "name": "python3"
  },
  "language_info": {
   "codemirror_mode": {
    "name": "ipython",
    "version": 3
   },
   "file_extension": ".py",
   "mimetype": "text/x-python",
   "name": "python",
   "nbconvert_exporter": "python",
   "pygments_lexer": "ipython3",
   "version": "3.12.4"
  }
 },
 "nbformat": 4,
 "nbformat_minor": 5
}
