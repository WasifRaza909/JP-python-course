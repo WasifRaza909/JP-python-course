{
 "cells": [
  {
   "cell_type": "markdown",
   "id": "aa7c4a1a-ee54-4b88-b7f9-8f8ec8e93e64",
   "metadata": {},
   "source": [
    "# Assignment 7"
   ]
  },
  {
   "cell_type": "code",
   "execution_count": 22,
   "id": "9b61012e-2df8-4c7f-be81-4f254adf808e",
   "metadata": {},
   "outputs": [
    {
     "name": "stdout",
     "output_type": "stream",
     "text": [
      "John Doe\n",
      "+1 (555) 123-4567\n",
      "123 Maple Street, Springfield, IL 62704\n",
      "50000\n",
      "7\n",
      "60000\n",
      "10\n",
      "80000\n"
     ]
    }
   ],
   "source": [
    "# Employee Data Bank.\n",
    "\n",
    "\n",
    "\n",
    "# Make a class called Employee. The __init__() method for Employee should store its different attributes: name, number, address, salary, post, year of joining, education, and his year of experience.\n",
    "\n",
    "# Make a method called describe_employee() that prints the detail Information about employee, a method update_ year_of_experience(), and a method called increase_salary() that do increamnet in it's salary.\n",
    "\n",
    "# Make an instance called employee101 from your class. Print the four attri-\n",
    "# butes individually, and then call all it's methods for describing employee, ssalary increamnet and increase year of experience.\n",
    "\n",
    "# Create 10 different instances from the class, and call describe_employee() for each\n",
    "# instance. Then do some updations with it's methods.\n",
    "\n",
    "# Finally complete the same task without using the Classes or OOP.\n",
    "\n",
    "class Employee:\n",
    "    def __init__(self, name, number, address, salary, post, year_of_joining, education, years_of_experience):\n",
    "        self.name = name\n",
    "        self.number = number\n",
    "        self.address = address\n",
    "        self.salary = salary\n",
    "        self.post = post\n",
    "        self.year_of_joining = year_of_joining\n",
    "        self.education = education\n",
    "        self.years_of_experience = years_of_experience\n",
    "\n",
    "    def describe_employee():\n",
    "        print(self.name)\n",
    "        print(self.number)\n",
    "        print(self.address)\n",
    "        print(self.salary)\n",
    "        print(self.post)\n",
    "        print(self.year_of_joining)\n",
    "        print(self.education)\n",
    "        print(self.years_of_experience)\n",
    "        \n",
    "    def update_year_of_experience(self, years_added):\n",
    "        self.years_of_experience += years_added\n",
    "        print(self.years_of_experience)\n",
    "        \n",
    "    \n",
    "    def increase_salary(self, increased_salary):\n",
    "        self.salary += increased_salary\n",
    "        print(self.salary)\n",
    "        \n",
    "\n",
    "employee101 = Employee(\"John Doe\", \"+1 (555) 123-4567\", \"123 Maple Street, Springfield, IL 62704\", 50000, \"Senior Software Dev\", \"2019\", \"Intermediate\", 5)\n",
    "\n",
    "print(employee101.name)\n",
    "print(employee101.number)\n",
    "print(employee101.address)\n",
    "print(employee101.salary)\n",
    "\n",
    "    \n",
    "\n",
    "employee101.update_year_of_experience(2)\n",
    "employee101.increase_salary(10000)\n",
    "\n",
    "\n",
    "employee1 = Employee(\"John Doe\", \"+1 (555) 123-4567\", \"123 Maple Street, Springfield, IL 62704\", 50000, \"Senior Software Dev\", \"2019\", \"Intermediate\", 5)\n",
    "employee2 = Employee(\"John Doe\", \"+1 (555) 123-4567\", \"123 Maple Street, Springfield, IL 62704\", 50000, \"Senior Software Dev\", \"2019\", \"Intermediate\", 5)\n",
    "employee3 = Employee(\"John Doe\", \"+1 (555) 123-4567\", \"123 Maple Street, Springfield, IL 62704\", 50000, \"Senior Software Dev\", \"2019\", \"Intermediate\", 5)\n",
    "employee4 = Employee(\"John Doe\", \"+1 (555) 123-4567\", \"123 Maple Street, Springfield, IL 62704\", 50000, \"Senior Software Dev\", \"2019\", \"Intermediate\", 5)\n",
    "employee5 = Employee(\"John Doe\", \"+1 (555) 123-4567\", \"123 Maple Street, Springfield, IL 62704\", 50000, \"Senior Software Dev\", \"2019\", \"Intermediate\", 5)\n",
    "employee6 = Employee(\"John Doe\", \"+1 (555) 123-4567\", \"123 Maple Street, Springfield, IL 62704\", 50000, \"Senior Software Dev\", \"2019\", \"Intermediate\", 5)\n",
    "employee7 = Employee(\"John Doe\", \"+1 (555) 123-4567\", \"123 Maple Street, Springfield, IL 62704\", 50000, \"Senior Software Dev\", \"2019\", \"Intermediate\", 5)\n",
    "employee8 = Employee(\"John Doe\", \"+1 (555) 123-4567\", \"123 Maple Street, Springfield, IL 62704\", 50000, \"Senior Software Dev\", \"2019\", \"Intermediate\", 5)\n",
    "employee9 = Employee(\"John Doe\", \"+1 (555) 123-4567\", \"123 Maple Street, Springfield, IL 62704\", 50000, \"Senior Software Dev\", \"2019\", \"Intermediate\", 5)\n",
    "employee10 = Employee(\"John Doe\", \"+1 (555) 123-4567\", \"123 Maple Street, Springfield, IL 62704\", 50000, \"Senior Software Dev\", \"2019\", \"Intermediate\", 5)\n",
    "\n",
    "\n",
    "employee10.update_year_of_experience(5)\n",
    "employee4.increase_salary(30000)"
   ]
  },
  {
   "cell_type": "code",
   "execution_count": null,
   "id": "0bd13186-ce96-40b3-81dd-5d1b3b6cd02a",
   "metadata": {},
   "outputs": [],
   "source": []
  },
  {
   "cell_type": "code",
   "execution_count": null,
   "id": "65ce695a-421f-4750-a5f0-5fc55c3f4507",
   "metadata": {},
   "outputs": [],
   "source": []
  }
 ],
 "metadata": {
  "kernelspec": {
   "display_name": "Python 3 (ipykernel)",
   "language": "python",
   "name": "python3"
  },
  "language_info": {
   "codemirror_mode": {
    "name": "ipython",
    "version": 3
   },
   "file_extension": ".py",
   "mimetype": "text/x-python",
   "name": "python",
   "nbconvert_exporter": "python",
   "pygments_lexer": "ipython3",
   "version": "3.12.4"
  }
 },
 "nbformat": 4,
 "nbformat_minor": 5
}
